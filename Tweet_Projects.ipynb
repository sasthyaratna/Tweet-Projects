{
  "nbformat": 4,
  "nbformat_minor": 0,
  "metadata": {
    "colab": {
      "provenance": []
    },
    "kernelspec": {
      "display_name": "Python 3",
      "name": "python3"
    },
    "language_info": {
      "name": "python"
    }
  },
  "cells": [
    {
      "cell_type": "markdown",
      "metadata": {
        "id": "view-in-github"
      },
      "source": [
        "<a href=\"https://colab.research.google.com/github/nabilaaryanti/Twitter-data-processing/blob/main/Tugas_1_Kapita_Selekta.ipynb\" target=\"_parent\"><img src=\"https://colab.research.google.com/assets/colab-badge.svg\" alt=\"Open In Colab\"/></a>"
      ]
    },
    {
      "cell_type": "markdown",
      "metadata": {
        "id": "xynlIFXUGQ3x"
      },
      "source": [
        "# Import Moduls"
      ]
    },
    {
      "cell_type": "code",
      "metadata": {
        "colab": {
          "base_uri": "https://localhost:8080/"
        },
        "id": "fJJuf6df_QFh",
        "outputId": "44ad8335-c5d5-46b5-8537-cfe840bcccc4"
      },
      "source": [
        "pip install docx2txt"
      ],
      "execution_count": null,
      "outputs": [
        {
          "output_type": "stream",
          "name": "stdout",
          "text": [
            "Collecting docx2txt\n",
            "  Downloading docx2txt-0.8.tar.gz (2.8 kB)\n",
            "Building wheels for collected packages: docx2txt\n",
            "  Building wheel for docx2txt (setup.py) ... \u001b[?25l\u001b[?25hdone\n",
            "  Created wheel for docx2txt: filename=docx2txt-0.8-py3-none-any.whl size=3980 sha256=3d3a30ebeffcc4fd39e639dfd4a31585900f9aeadaae4a749a14d9316672e593\n",
            "  Stored in directory: /root/.cache/pip/wheels/b7/20/b2/473e3aea9a0c0d3e7b2f7bd81d06d0794fec12752733d1f3a8\n",
            "Successfully built docx2txt\n",
            "Installing collected packages: docx2txt\n",
            "Successfully installed docx2txt-0.8\n"
          ]
        }
      ]
    },
    {
      "cell_type": "code",
      "metadata": {
        "colab": {
          "base_uri": "https://localhost:8080/"
        },
        "id": "L2rspjom_QFl",
        "outputId": "ba025884-b1df-4e44-a3c9-e75386f9c600"
      },
      "source": [
        "pip install Unidecode"
      ],
      "execution_count": null,
      "outputs": [
        {
          "output_type": "stream",
          "name": "stdout",
          "text": [
            "Collecting Unidecode\n",
            "  Downloading Unidecode-1.3.2-py3-none-any.whl (235 kB)\n",
            "\u001b[K     |████████████████████████████████| 235 kB 5.1 MB/s \n",
            "\u001b[?25hInstalling collected packages: Unidecode\n",
            "Successfully installed Unidecode-1.3.2\n"
          ]
        }
      ]
    },
    {
      "cell_type": "code",
      "metadata": {
        "colab": {
          "base_uri": "https://localhost:8080/"
        },
        "id": "vBxDcRLF_QFm",
        "outputId": "128c08dc-a8cf-4251-a574-8ff86146f5bc"
      },
      "source": [
        "import nltk\n",
        "nltk.download('punkt')"
      ],
      "execution_count": null,
      "outputs": [
        {
          "output_type": "stream",
          "name": "stdout",
          "text": [
            "[nltk_data] Downloading package punkt to /root/nltk_data...\n",
            "[nltk_data]   Unzipping tokenizers/punkt.zip.\n"
          ]
        },
        {
          "output_type": "execute_result",
          "data": {
            "text/plain": [
              "True"
            ]
          },
          "metadata": {},
          "execution_count": 3
        }
      ]
    },
    {
      "cell_type": "code",
      "metadata": {
        "id": "-VBB5yPxhXVl"
      },
      "source": [
        "# import libraries\n",
        "import pandas as pd\n",
        "import numpy as np\n",
        "import matplotlib.pyplot as plt\n",
        "import seaborn as sns\n",
        "from PIL import Image\n",
        "import random\n",
        "import cv2\n",
        "from collections import Counter\n",
        "plt.style.use('bmh'); sns.set()\n",
        "%matplotlib inline"
      ],
      "execution_count": null,
      "outputs": []
    },
    {
      "cell_type": "code",
      "metadata": {
        "id": "VYK0tzZ4_QFn"
      },
      "source": [
        "import re, os, itertools, docx2txt\n",
        "from tqdm import tqdm\n",
        "from nltk.stem import WordNetLemmatizer\n",
        "from nltk import sent_tokenize, word_tokenize\n",
        "from spacy.lang.id import Indonesian\n",
        "from html import unescape\n",
        "from unidecode import unidecode\n",
        "from nltk.tokenize import TweetTokenizer; Tokenizer = TweetTokenizer(reduce_len=True)\n",
        "from nltk.stem import PorterStemmer;ps = PorterStemmer()\n",
        "from string import punctuation\n",
        "from bz2 import BZ2File as bz2\n",
        "from sklearn.feature_extraction.text import CountVectorizer\n",
        "from sklearn.decomposition import LatentDirichletAllocation as LDA\n",
        "import matplotlib.pyplot as plt\n",
        "from textblob import TextBlob\n",
        "import time\n",
        "from tqdm import tqdm\n",
        "from google.colab import files"
      ],
      "execution_count": null,
      "outputs": []
    },
    {
      "cell_type": "code",
      "metadata": {
        "colab": {
          "base_uri": "https://localhost:8080/"
        },
        "id": "kHNCMsEe_QFp",
        "outputId": "19afe6c7-7e50-4d2f-93d0-8b9f82de02f0"
      },
      "source": [
        "!ls"
      ],
      "execution_count": null,
      "outputs": [
        {
          "output_type": "stream",
          "name": "stdout",
          "text": [
            "sample_data  Twitter-data-processing\n"
          ]
        }
      ]
    },
    {
      "cell_type": "markdown",
      "metadata": {
        "id": "_4k4mBx3GUty"
      },
      "source": [
        "# Load Data"
      ]
    },
    {
      "cell_type": "code",
      "metadata": {
        "id": "oBxcCnnM3XLR"
      },
      "source": [
        "data1 = pd.read_json('/content/badminton.json', lines = True)\n",
        "data2 = pd.read_json('/content/ginting1.json', lines = True)\n",
        "data3 = pd.read_json('/content/ginting2.json', lines = True)\n",
        "data4 = pd.read_json('/content/thomascup.json', lines = True)"
      ],
      "execution_count": null,
      "outputs": []
    },
    {
      "cell_type": "code",
      "metadata": {
        "id": "CWFDWKCLmxQj"
      },
      "source": [
        "# menggabungkan data menjadi satu dataframe\n",
        "dataFinal = pd.concat([data1, data2, data3, data4])\n",
        "dataFinal = dataFinal.reset_index(drop= True)"
      ],
      "execution_count": null,
      "outputs": []
    },
    {
      "cell_type": "code",
      "metadata": {
        "id": "8gD2nEQ1m9RS",
        "colab": {
          "base_uri": "https://localhost:8080/"
        },
        "outputId": "896cfef4-f288-4db9-85d7-f9bbd122c3fb"
      },
      "source": [
        "# Mengecek banyaknya baris dan kolom data\n",
        "N, P = dataFinal.shape\n",
        "'baris = ', N, ', Kolom = ', P"
      ],
      "execution_count": null,
      "outputs": [
        {
          "output_type": "execute_result",
          "data": {
            "text/plain": [
              "('baris = ', 41296, ', Kolom = ', 31)"
            ]
          },
          "metadata": {},
          "execution_count": 10
        }
      ]
    },
    {
      "cell_type": "code",
      "metadata": {
        "id": "iTl8_z_hnFa7",
        "colab": {
          "base_uri": "https://localhost:8080/",
          "height": 462
        },
        "outputId": "cd01d510-ee96-48ac-a15d-dc2beb4fa274"
      },
      "source": [
        "# mengecek 5 data pertama\n",
        "dataFinal.head()"
      ],
      "execution_count": null,
      "outputs": [
        {
          "output_type": "execute_result",
          "data": {
            "text/html": [
              "<div>\n",
              "<style scoped>\n",
              "    .dataframe tbody tr th:only-of-type {\n",
              "        vertical-align: middle;\n",
              "    }\n",
              "\n",
              "    .dataframe tbody tr th {\n",
              "        vertical-align: top;\n",
              "    }\n",
              "\n",
              "    .dataframe thead th {\n",
              "        text-align: right;\n",
              "    }\n",
              "</style>\n",
              "<table border=\"1\" class=\"dataframe\">\n",
              "  <thead>\n",
              "    <tr style=\"text-align: right;\">\n",
              "      <th></th>\n",
              "      <th>created_at</th>\n",
              "      <th>id</th>\n",
              "      <th>id_str</th>\n",
              "      <th>full_text</th>\n",
              "      <th>truncated</th>\n",
              "      <th>display_text_range</th>\n",
              "      <th>entities</th>\n",
              "      <th>metadata</th>\n",
              "      <th>source</th>\n",
              "      <th>in_reply_to_status_id</th>\n",
              "      <th>in_reply_to_status_id_str</th>\n",
              "      <th>in_reply_to_user_id</th>\n",
              "      <th>in_reply_to_user_id_str</th>\n",
              "      <th>in_reply_to_screen_name</th>\n",
              "      <th>user</th>\n",
              "      <th>geo</th>\n",
              "      <th>coordinates</th>\n",
              "      <th>place</th>\n",
              "      <th>contributors</th>\n",
              "      <th>is_quote_status</th>\n",
              "      <th>retweet_count</th>\n",
              "      <th>favorite_count</th>\n",
              "      <th>favorited</th>\n",
              "      <th>retweeted</th>\n",
              "      <th>lang</th>\n",
              "      <th>retweeted_status</th>\n",
              "      <th>extended_entities</th>\n",
              "      <th>possibly_sensitive</th>\n",
              "      <th>quoted_status_id</th>\n",
              "      <th>quoted_status_id_str</th>\n",
              "      <th>quoted_status</th>\n",
              "    </tr>\n",
              "  </thead>\n",
              "  <tbody>\n",
              "    <tr>\n",
              "      <th>0</th>\n",
              "      <td>2021-10-15 13:34:24+00:00</td>\n",
              "      <td>1449005740664897537</td>\n",
              "      <td>1449005740664897536</td>\n",
              "      <td>Penat aku tengok badminton</td>\n",
              "      <td>False</td>\n",
              "      <td>[0, 26]</td>\n",
              "      <td>{'hashtags': [], 'symbols': [], 'user_mentions...</td>\n",
              "      <td>{'iso_language_code': 'in', 'result_type': 're...</td>\n",
              "      <td>&lt;a href=\"http://twitter.com/download/iphone\" r...</td>\n",
              "      <td>NaN</td>\n",
              "      <td>NaN</td>\n",
              "      <td>NaN</td>\n",
              "      <td>NaN</td>\n",
              "      <td>None</td>\n",
              "      <td>{'id': 936196220480978945, 'id_str': '93619622...</td>\n",
              "      <td>None</td>\n",
              "      <td>None</td>\n",
              "      <td>None</td>\n",
              "      <td>NaN</td>\n",
              "      <td>False</td>\n",
              "      <td>0</td>\n",
              "      <td>0</td>\n",
              "      <td>False</td>\n",
              "      <td>False</td>\n",
              "      <td>in</td>\n",
              "      <td>NaN</td>\n",
              "      <td>NaN</td>\n",
              "      <td>NaN</td>\n",
              "      <td>NaN</td>\n",
              "      <td>NaN</td>\n",
              "      <td>NaN</td>\n",
              "    </tr>\n",
              "    <tr>\n",
              "      <th>1</th>\n",
              "      <td>2021-10-15 13:34:22+00:00</td>\n",
              "      <td>1449005730535645185</td>\n",
              "      <td>1449005730535645184</td>\n",
              "      <td>RT @FarishaChaa: Member sedap makan dekat food...</td>\n",
              "      <td>False</td>\n",
              "      <td>[0, 140]</td>\n",
              "      <td>{'hashtags': [], 'symbols': [], 'user_mentions...</td>\n",
              "      <td>{'iso_language_code': 'in', 'result_type': 're...</td>\n",
              "      <td>&lt;a href=\"http://twitter.com/download/android\" ...</td>\n",
              "      <td>NaN</td>\n",
              "      <td>NaN</td>\n",
              "      <td>NaN</td>\n",
              "      <td>NaN</td>\n",
              "      <td>None</td>\n",
              "      <td>{'id': 400485536, 'id_str': '400485536', 'name...</td>\n",
              "      <td>None</td>\n",
              "      <td>None</td>\n",
              "      <td>None</td>\n",
              "      <td>NaN</td>\n",
              "      <td>False</td>\n",
              "      <td>230</td>\n",
              "      <td>0</td>\n",
              "      <td>False</td>\n",
              "      <td>False</td>\n",
              "      <td>in</td>\n",
              "      <td>{'created_at': 'Fri Oct 15 10:59:30 +0000 2021...</td>\n",
              "      <td>NaN</td>\n",
              "      <td>NaN</td>\n",
              "      <td>NaN</td>\n",
              "      <td>NaN</td>\n",
              "      <td>NaN</td>\n",
              "    </tr>\n",
              "    <tr>\n",
              "      <th>2</th>\n",
              "      <td>2021-10-15 13:34:21+00:00</td>\n",
              "      <td>1449005729373773826</td>\n",
              "      <td>1449005729373773824</td>\n",
              "      <td>Kalau mau OT nonton badminton aja jangan IC ga...</td>\n",
              "      <td>False</td>\n",
              "      <td>[0, 80]</td>\n",
              "      <td>{'hashtags': [], 'symbols': [], 'user_mentions...</td>\n",
              "      <td>{'iso_language_code': 'in', 'result_type': 're...</td>\n",
              "      <td>&lt;a href=\"http://twitter.com/download/android\" ...</td>\n",
              "      <td>NaN</td>\n",
              "      <td>NaN</td>\n",
              "      <td>NaN</td>\n",
              "      <td>NaN</td>\n",
              "      <td>None</td>\n",
              "      <td>{'id': 1417001386865168385, 'id_str': '1417001...</td>\n",
              "      <td>None</td>\n",
              "      <td>None</td>\n",
              "      <td>None</td>\n",
              "      <td>NaN</td>\n",
              "      <td>False</td>\n",
              "      <td>0</td>\n",
              "      <td>0</td>\n",
              "      <td>False</td>\n",
              "      <td>False</td>\n",
              "      <td>in</td>\n",
              "      <td>NaN</td>\n",
              "      <td>NaN</td>\n",
              "      <td>NaN</td>\n",
              "      <td>NaN</td>\n",
              "      <td>NaN</td>\n",
              "      <td>NaN</td>\n",
              "    </tr>\n",
              "    <tr>\n",
              "      <th>3</th>\n",
              "      <td>2021-10-15 13:34:13+00:00</td>\n",
              "      <td>1449005695383203840</td>\n",
              "      <td>1449005695383203840</td>\n",
              "      <td>Gak nonton Badminton penasaran, pas giliran bi...</td>\n",
              "      <td>False</td>\n",
              "      <td>[0, 86]</td>\n",
              "      <td>{'hashtags': [{'text': 'ThomasCup', 'indices':...</td>\n",
              "      <td>{'iso_language_code': 'in', 'result_type': 're...</td>\n",
              "      <td>&lt;a href=\"http://twitter.com/download/android\" ...</td>\n",
              "      <td>NaN</td>\n",
              "      <td>NaN</td>\n",
              "      <td>NaN</td>\n",
              "      <td>NaN</td>\n",
              "      <td>None</td>\n",
              "      <td>{'id': 1036309419129073664, 'id_str': '1036309...</td>\n",
              "      <td>None</td>\n",
              "      <td>None</td>\n",
              "      <td>None</td>\n",
              "      <td>NaN</td>\n",
              "      <td>False</td>\n",
              "      <td>0</td>\n",
              "      <td>0</td>\n",
              "      <td>False</td>\n",
              "      <td>False</td>\n",
              "      <td>in</td>\n",
              "      <td>NaN</td>\n",
              "      <td>NaN</td>\n",
              "      <td>NaN</td>\n",
              "      <td>NaN</td>\n",
              "      <td>NaN</td>\n",
              "      <td>NaN</td>\n",
              "    </tr>\n",
              "    <tr>\n",
              "      <th>4</th>\n",
              "      <td>2021-10-15 13:34:13+00:00</td>\n",
              "      <td>1449005693717995524</td>\n",
              "      <td>1449005693717995520</td>\n",
              "      <td>weh bedebo siot tgk badminton ni</td>\n",
              "      <td>False</td>\n",
              "      <td>[0, 32]</td>\n",
              "      <td>{'hashtags': [], 'symbols': [], 'user_mentions...</td>\n",
              "      <td>{'iso_language_code': 'in', 'result_type': 're...</td>\n",
              "      <td>&lt;a href=\"http://twitter.com/download/android\" ...</td>\n",
              "      <td>NaN</td>\n",
              "      <td>NaN</td>\n",
              "      <td>NaN</td>\n",
              "      <td>NaN</td>\n",
              "      <td>None</td>\n",
              "      <td>{'id': 1288570706, 'id_str': '1288570706', 'na...</td>\n",
              "      <td>None</td>\n",
              "      <td>None</td>\n",
              "      <td>None</td>\n",
              "      <td>NaN</td>\n",
              "      <td>False</td>\n",
              "      <td>0</td>\n",
              "      <td>0</td>\n",
              "      <td>False</td>\n",
              "      <td>False</td>\n",
              "      <td>in</td>\n",
              "      <td>NaN</td>\n",
              "      <td>NaN</td>\n",
              "      <td>NaN</td>\n",
              "      <td>NaN</td>\n",
              "      <td>NaN</td>\n",
              "      <td>NaN</td>\n",
              "    </tr>\n",
              "  </tbody>\n",
              "</table>\n",
              "</div>"
            ],
            "text/plain": [
              "                 created_at  ...  quoted_status\n",
              "0 2021-10-15 13:34:24+00:00  ...            NaN\n",
              "1 2021-10-15 13:34:22+00:00  ...            NaN\n",
              "2 2021-10-15 13:34:21+00:00  ...            NaN\n",
              "3 2021-10-15 13:34:13+00:00  ...            NaN\n",
              "4 2021-10-15 13:34:13+00:00  ...            NaN\n",
              "\n",
              "[5 rows x 31 columns]"
            ]
          },
          "metadata": {},
          "execution_count": 11
        }
      ]
    },
    {
      "cell_type": "markdown",
      "metadata": {
        "id": "yznUOzQoFmj8"
      },
      "source": [
        "# EDA"
      ]
    },
    {
      "cell_type": "code",
      "metadata": {
        "id": "MzhGLIMLTQ19",
        "colab": {
          "base_uri": "https://localhost:8080/"
        },
        "outputId": "c560b959-8e1d-4b81-8af9-626711132d5c"
      },
      "source": [
        "dataFinal.columns"
      ],
      "execution_count": null,
      "outputs": [
        {
          "output_type": "execute_result",
          "data": {
            "text/plain": [
              "Index(['created_at', 'id', 'id_str', 'full_text', 'truncated',\n",
              "       'display_text_range', 'entities', 'metadata', 'source',\n",
              "       'in_reply_to_status_id', 'in_reply_to_status_id_str',\n",
              "       'in_reply_to_user_id', 'in_reply_to_user_id_str',\n",
              "       'in_reply_to_screen_name', 'user', 'geo', 'coordinates', 'place',\n",
              "       'contributors', 'is_quote_status', 'retweet_count', 'favorite_count',\n",
              "       'favorited', 'retweeted', 'lang', 'retweeted_status',\n",
              "       'extended_entities', 'possibly_sensitive', 'quoted_status_id',\n",
              "       'quoted_status_id_str', 'quoted_status'],\n",
              "      dtype='object')"
            ]
          },
          "metadata": {},
          "execution_count": 12
        }
      ]
    },
    {
      "cell_type": "code",
      "metadata": {
        "id": "kVDHYst-fzi3",
        "colab": {
          "base_uri": "https://localhost:8080/"
        },
        "outputId": "d5635bc5-e4ac-469c-cbed-4900dbc0edcc"
      },
      "source": [
        "dataFinal.info()"
      ],
      "execution_count": null,
      "outputs": [
        {
          "output_type": "stream",
          "name": "stdout",
          "text": [
            "<class 'pandas.core.frame.DataFrame'>\n",
            "RangeIndex: 41296 entries, 0 to 41295\n",
            "Data columns (total 31 columns):\n",
            " #   Column                     Non-Null Count  Dtype              \n",
            "---  ------                     --------------  -----              \n",
            " 0   created_at                 41296 non-null  datetime64[ns, UTC]\n",
            " 1   id                         41296 non-null  int64              \n",
            " 2   id_str                     41296 non-null  int64              \n",
            " 3   full_text                  41296 non-null  object             \n",
            " 4   truncated                  41296 non-null  bool               \n",
            " 5   display_text_range         41296 non-null  object             \n",
            " 6   entities                   41296 non-null  object             \n",
            " 7   metadata                   41296 non-null  object             \n",
            " 8   source                     41296 non-null  object             \n",
            " 9   in_reply_to_status_id      5845 non-null   float64            \n",
            " 10  in_reply_to_status_id_str  5845 non-null   float64            \n",
            " 11  in_reply_to_user_id        5877 non-null   float64            \n",
            " 12  in_reply_to_user_id_str    5877 non-null   float64            \n",
            " 13  in_reply_to_screen_name    5877 non-null   object             \n",
            " 14  user                       41296 non-null  object             \n",
            " 15  geo                        9 non-null      object             \n",
            " 16  coordinates                9 non-null      object             \n",
            " 17  place                      320 non-null    object             \n",
            " 18  contributors               0 non-null      float64            \n",
            " 19  is_quote_status            41296 non-null  bool               \n",
            " 20  retweet_count              41296 non-null  int64              \n",
            " 21  favorite_count             41296 non-null  int64              \n",
            " 22  favorited                  41296 non-null  bool               \n",
            " 23  retweeted                  41296 non-null  bool               \n",
            " 24  lang                       41296 non-null  object             \n",
            " 25  retweeted_status           21565 non-null  object             \n",
            " 26  extended_entities          2319 non-null   object             \n",
            " 27  possibly_sensitive         3878 non-null   float64            \n",
            " 28  quoted_status_id           1534 non-null   float64            \n",
            " 29  quoted_status_id_str       1534 non-null   float64            \n",
            " 30  quoted_status              932 non-null    object             \n",
            "dtypes: bool(4), datetime64[ns, UTC](1), float64(8), int64(4), object(14)\n",
            "memory usage: 8.7+ MB\n"
          ]
        }
      ]
    },
    {
      "cell_type": "code",
      "metadata": {
        "id": "42cXqqr7gDFk",
        "colab": {
          "base_uri": "https://localhost:8080/",
          "height": 881
        },
        "outputId": "052963e0-12dc-4c6e-dca0-5e30b1a7fa89"
      },
      "source": [
        "#menghapus entri yang memiliki data duplikat\n",
        "dataFinal.iloc[dataFinal.astype(str).drop_duplicates().index]"
      ],
      "execution_count": null,
      "outputs": [
        {
          "output_type": "execute_result",
          "data": {
            "text/html": [
              "<div>\n",
              "<style scoped>\n",
              "    .dataframe tbody tr th:only-of-type {\n",
              "        vertical-align: middle;\n",
              "    }\n",
              "\n",
              "    .dataframe tbody tr th {\n",
              "        vertical-align: top;\n",
              "    }\n",
              "\n",
              "    .dataframe thead th {\n",
              "        text-align: right;\n",
              "    }\n",
              "</style>\n",
              "<table border=\"1\" class=\"dataframe\">\n",
              "  <thead>\n",
              "    <tr style=\"text-align: right;\">\n",
              "      <th></th>\n",
              "      <th>created_at</th>\n",
              "      <th>id</th>\n",
              "      <th>id_str</th>\n",
              "      <th>full_text</th>\n",
              "      <th>truncated</th>\n",
              "      <th>display_text_range</th>\n",
              "      <th>entities</th>\n",
              "      <th>metadata</th>\n",
              "      <th>source</th>\n",
              "      <th>in_reply_to_status_id</th>\n",
              "      <th>in_reply_to_status_id_str</th>\n",
              "      <th>in_reply_to_user_id</th>\n",
              "      <th>in_reply_to_user_id_str</th>\n",
              "      <th>in_reply_to_screen_name</th>\n",
              "      <th>user</th>\n",
              "      <th>geo</th>\n",
              "      <th>coordinates</th>\n",
              "      <th>place</th>\n",
              "      <th>contributors</th>\n",
              "      <th>is_quote_status</th>\n",
              "      <th>retweet_count</th>\n",
              "      <th>favorite_count</th>\n",
              "      <th>favorited</th>\n",
              "      <th>retweeted</th>\n",
              "      <th>lang</th>\n",
              "      <th>retweeted_status</th>\n",
              "      <th>extended_entities</th>\n",
              "      <th>possibly_sensitive</th>\n",
              "      <th>quoted_status_id</th>\n",
              "      <th>quoted_status_id_str</th>\n",
              "      <th>quoted_status</th>\n",
              "    </tr>\n",
              "  </thead>\n",
              "  <tbody>\n",
              "    <tr>\n",
              "      <th>0</th>\n",
              "      <td>2021-10-15 13:34:24+00:00</td>\n",
              "      <td>1449005740664897537</td>\n",
              "      <td>1449005740664897536</td>\n",
              "      <td>Penat aku tengok badminton</td>\n",
              "      <td>False</td>\n",
              "      <td>[0, 26]</td>\n",
              "      <td>{'hashtags': [], 'symbols': [], 'user_mentions...</td>\n",
              "      <td>{'iso_language_code': 'in', 'result_type': 're...</td>\n",
              "      <td>&lt;a href=\"http://twitter.com/download/iphone\" r...</td>\n",
              "      <td>NaN</td>\n",
              "      <td>NaN</td>\n",
              "      <td>NaN</td>\n",
              "      <td>NaN</td>\n",
              "      <td>None</td>\n",
              "      <td>{'id': 936196220480978945, 'id_str': '93619622...</td>\n",
              "      <td>None</td>\n",
              "      <td>None</td>\n",
              "      <td>None</td>\n",
              "      <td>NaN</td>\n",
              "      <td>False</td>\n",
              "      <td>0</td>\n",
              "      <td>0</td>\n",
              "      <td>False</td>\n",
              "      <td>False</td>\n",
              "      <td>in</td>\n",
              "      <td>NaN</td>\n",
              "      <td>NaN</td>\n",
              "      <td>NaN</td>\n",
              "      <td>NaN</td>\n",
              "      <td>NaN</td>\n",
              "      <td>NaN</td>\n",
              "    </tr>\n",
              "    <tr>\n",
              "      <th>1</th>\n",
              "      <td>2021-10-15 13:34:22+00:00</td>\n",
              "      <td>1449005730535645185</td>\n",
              "      <td>1449005730535645184</td>\n",
              "      <td>RT @FarishaChaa: Member sedap makan dekat food...</td>\n",
              "      <td>False</td>\n",
              "      <td>[0, 140]</td>\n",
              "      <td>{'hashtags': [], 'symbols': [], 'user_mentions...</td>\n",
              "      <td>{'iso_language_code': 'in', 'result_type': 're...</td>\n",
              "      <td>&lt;a href=\"http://twitter.com/download/android\" ...</td>\n",
              "      <td>NaN</td>\n",
              "      <td>NaN</td>\n",
              "      <td>NaN</td>\n",
              "      <td>NaN</td>\n",
              "      <td>None</td>\n",
              "      <td>{'id': 400485536, 'id_str': '400485536', 'name...</td>\n",
              "      <td>None</td>\n",
              "      <td>None</td>\n",
              "      <td>None</td>\n",
              "      <td>NaN</td>\n",
              "      <td>False</td>\n",
              "      <td>230</td>\n",
              "      <td>0</td>\n",
              "      <td>False</td>\n",
              "      <td>False</td>\n",
              "      <td>in</td>\n",
              "      <td>{'created_at': 'Fri Oct 15 10:59:30 +0000 2021...</td>\n",
              "      <td>NaN</td>\n",
              "      <td>NaN</td>\n",
              "      <td>NaN</td>\n",
              "      <td>NaN</td>\n",
              "      <td>NaN</td>\n",
              "    </tr>\n",
              "    <tr>\n",
              "      <th>2</th>\n",
              "      <td>2021-10-15 13:34:21+00:00</td>\n",
              "      <td>1449005729373773826</td>\n",
              "      <td>1449005729373773824</td>\n",
              "      <td>Kalau mau OT nonton badminton aja jangan IC ga...</td>\n",
              "      <td>False</td>\n",
              "      <td>[0, 80]</td>\n",
              "      <td>{'hashtags': [], 'symbols': [], 'user_mentions...</td>\n",
              "      <td>{'iso_language_code': 'in', 'result_type': 're...</td>\n",
              "      <td>&lt;a href=\"http://twitter.com/download/android\" ...</td>\n",
              "      <td>NaN</td>\n",
              "      <td>NaN</td>\n",
              "      <td>NaN</td>\n",
              "      <td>NaN</td>\n",
              "      <td>None</td>\n",
              "      <td>{'id': 1417001386865168385, 'id_str': '1417001...</td>\n",
              "      <td>None</td>\n",
              "      <td>None</td>\n",
              "      <td>None</td>\n",
              "      <td>NaN</td>\n",
              "      <td>False</td>\n",
              "      <td>0</td>\n",
              "      <td>0</td>\n",
              "      <td>False</td>\n",
              "      <td>False</td>\n",
              "      <td>in</td>\n",
              "      <td>NaN</td>\n",
              "      <td>NaN</td>\n",
              "      <td>NaN</td>\n",
              "      <td>NaN</td>\n",
              "      <td>NaN</td>\n",
              "      <td>NaN</td>\n",
              "    </tr>\n",
              "    <tr>\n",
              "      <th>3</th>\n",
              "      <td>2021-10-15 13:34:13+00:00</td>\n",
              "      <td>1449005695383203840</td>\n",
              "      <td>1449005695383203840</td>\n",
              "      <td>Gak nonton Badminton penasaran, pas giliran bi...</td>\n",
              "      <td>False</td>\n",
              "      <td>[0, 86]</td>\n",
              "      <td>{'hashtags': [{'text': 'ThomasCup', 'indices':...</td>\n",
              "      <td>{'iso_language_code': 'in', 'result_type': 're...</td>\n",
              "      <td>&lt;a href=\"http://twitter.com/download/android\" ...</td>\n",
              "      <td>NaN</td>\n",
              "      <td>NaN</td>\n",
              "      <td>NaN</td>\n",
              "      <td>NaN</td>\n",
              "      <td>None</td>\n",
              "      <td>{'id': 1036309419129073664, 'id_str': '1036309...</td>\n",
              "      <td>None</td>\n",
              "      <td>None</td>\n",
              "      <td>None</td>\n",
              "      <td>NaN</td>\n",
              "      <td>False</td>\n",
              "      <td>0</td>\n",
              "      <td>0</td>\n",
              "      <td>False</td>\n",
              "      <td>False</td>\n",
              "      <td>in</td>\n",
              "      <td>NaN</td>\n",
              "      <td>NaN</td>\n",
              "      <td>NaN</td>\n",
              "      <td>NaN</td>\n",
              "      <td>NaN</td>\n",
              "      <td>NaN</td>\n",
              "    </tr>\n",
              "    <tr>\n",
              "      <th>4</th>\n",
              "      <td>2021-10-15 13:34:13+00:00</td>\n",
              "      <td>1449005693717995524</td>\n",
              "      <td>1449005693717995520</td>\n",
              "      <td>weh bedebo siot tgk badminton ni</td>\n",
              "      <td>False</td>\n",
              "      <td>[0, 32]</td>\n",
              "      <td>{'hashtags': [], 'symbols': [], 'user_mentions...</td>\n",
              "      <td>{'iso_language_code': 'in', 'result_type': 're...</td>\n",
              "      <td>&lt;a href=\"http://twitter.com/download/android\" ...</td>\n",
              "      <td>NaN</td>\n",
              "      <td>NaN</td>\n",
              "      <td>NaN</td>\n",
              "      <td>NaN</td>\n",
              "      <td>None</td>\n",
              "      <td>{'id': 1288570706, 'id_str': '1288570706', 'na...</td>\n",
              "      <td>None</td>\n",
              "      <td>None</td>\n",
              "      <td>None</td>\n",
              "      <td>NaN</td>\n",
              "      <td>False</td>\n",
              "      <td>0</td>\n",
              "      <td>0</td>\n",
              "      <td>False</td>\n",
              "      <td>False</td>\n",
              "      <td>in</td>\n",
              "      <td>NaN</td>\n",
              "      <td>NaN</td>\n",
              "      <td>NaN</td>\n",
              "      <td>NaN</td>\n",
              "      <td>NaN</td>\n",
              "      <td>NaN</td>\n",
              "    </tr>\n",
              "    <tr>\n",
              "      <th>...</th>\n",
              "      <td>...</td>\n",
              "      <td>...</td>\n",
              "      <td>...</td>\n",
              "      <td>...</td>\n",
              "      <td>...</td>\n",
              "      <td>...</td>\n",
              "      <td>...</td>\n",
              "      <td>...</td>\n",
              "      <td>...</td>\n",
              "      <td>...</td>\n",
              "      <td>...</td>\n",
              "      <td>...</td>\n",
              "      <td>...</td>\n",
              "      <td>...</td>\n",
              "      <td>...</td>\n",
              "      <td>...</td>\n",
              "      <td>...</td>\n",
              "      <td>...</td>\n",
              "      <td>...</td>\n",
              "      <td>...</td>\n",
              "      <td>...</td>\n",
              "      <td>...</td>\n",
              "      <td>...</td>\n",
              "      <td>...</td>\n",
              "      <td>...</td>\n",
              "      <td>...</td>\n",
              "      <td>...</td>\n",
              "      <td>...</td>\n",
              "      <td>...</td>\n",
              "      <td>...</td>\n",
              "      <td>...</td>\n",
              "    </tr>\n",
              "    <tr>\n",
              "      <th>41291</th>\n",
              "      <td>2021-10-07 12:56:32+00:00</td>\n",
              "      <td>1446097110332411907</td>\n",
              "      <td>1446097110332411904</td>\n",
              "      <td>RT @ASTROARENA: \"Masa itu saya hanya akan fiki...</td>\n",
              "      <td>False</td>\n",
              "      <td>[0, 140]</td>\n",
              "      <td>{'hashtags': [], 'symbols': [], 'user_mentions...</td>\n",
              "      <td>{'iso_language_code': 'in', 'result_type': 're...</td>\n",
              "      <td>&lt;a href=\"http://twitter.com/download/android\" ...</td>\n",
              "      <td>NaN</td>\n",
              "      <td>NaN</td>\n",
              "      <td>NaN</td>\n",
              "      <td>NaN</td>\n",
              "      <td>None</td>\n",
              "      <td>{'id': 725522512545599488, 'id_str': '72552251...</td>\n",
              "      <td>NaN</td>\n",
              "      <td>NaN</td>\n",
              "      <td>None</td>\n",
              "      <td>NaN</td>\n",
              "      <td>False</td>\n",
              "      <td>16</td>\n",
              "      <td>0</td>\n",
              "      <td>False</td>\n",
              "      <td>False</td>\n",
              "      <td>in</td>\n",
              "      <td>{'created_at': 'Thu Oct 07 12:55:39 +0000 2021...</td>\n",
              "      <td>NaN</td>\n",
              "      <td>NaN</td>\n",
              "      <td>NaN</td>\n",
              "      <td>NaN</td>\n",
              "      <td>NaN</td>\n",
              "    </tr>\n",
              "    <tr>\n",
              "      <th>41292</th>\n",
              "      <td>2021-10-07 12:55:39+00:00</td>\n",
              "      <td>1446096884653719560</td>\n",
              "      <td>1446096884653719552</td>\n",
              "      <td>\"Masa itu saya hanya akan fikirkan macam mana ...</td>\n",
              "      <td>False</td>\n",
              "      <td>[0, 213]</td>\n",
              "      <td>{'hashtags': [{'text': 'ThomasCup2021', 'indic...</td>\n",
              "      <td>{'iso_language_code': 'in', 'result_type': 're...</td>\n",
              "      <td>&lt;a href=\"https://studio.twitter.com\" rel=\"nofo...</td>\n",
              "      <td>NaN</td>\n",
              "      <td>NaN</td>\n",
              "      <td>NaN</td>\n",
              "      <td>NaN</td>\n",
              "      <td>None</td>\n",
              "      <td>{'id': 160788306, 'id_str': '160788306', 'name...</td>\n",
              "      <td>NaN</td>\n",
              "      <td>NaN</td>\n",
              "      <td>None</td>\n",
              "      <td>NaN</td>\n",
              "      <td>False</td>\n",
              "      <td>16</td>\n",
              "      <td>65</td>\n",
              "      <td>False</td>\n",
              "      <td>False</td>\n",
              "      <td>in</td>\n",
              "      <td>NaN</td>\n",
              "      <td>{'media': [{'id': 1446092814689792002, 'id_str...</td>\n",
              "      <td>0.0</td>\n",
              "      <td>NaN</td>\n",
              "      <td>NaN</td>\n",
              "      <td>NaN</td>\n",
              "    </tr>\n",
              "    <tr>\n",
              "      <th>41293</th>\n",
              "      <td>2021-10-07 10:47:58+00:00</td>\n",
              "      <td>1446064752677908482</td>\n",
              "      <td>1446064752677908480</td>\n",
              "      <td>@BadmintonTalk Ko Hend  dan Ka Gey panutan ema...</td>\n",
              "      <td>False</td>\n",
              "      <td>[15, 107]</td>\n",
              "      <td>{'hashtags': [{'text': 'ThomasCup2021', 'indic...</td>\n",
              "      <td>{'iso_language_code': 'in', 'result_type': 're...</td>\n",
              "      <td>&lt;a href=\"http://twitter.com/download/iphone\" r...</td>\n",
              "      <td>1.446061e+18</td>\n",
              "      <td>1.446061e+18</td>\n",
              "      <td>2.941773e+09</td>\n",
              "      <td>2.941773e+09</td>\n",
              "      <td>BadmintonTalk</td>\n",
              "      <td>{'id': 1289060758395879424, 'id_str': '1289060...</td>\n",
              "      <td>NaN</td>\n",
              "      <td>NaN</td>\n",
              "      <td>None</td>\n",
              "      <td>NaN</td>\n",
              "      <td>False</td>\n",
              "      <td>0</td>\n",
              "      <td>0</td>\n",
              "      <td>False</td>\n",
              "      <td>False</td>\n",
              "      <td>in</td>\n",
              "      <td>NaN</td>\n",
              "      <td>NaN</td>\n",
              "      <td>NaN</td>\n",
              "      <td>NaN</td>\n",
              "      <td>NaN</td>\n",
              "      <td>NaN</td>\n",
              "    </tr>\n",
              "    <tr>\n",
              "      <th>41294</th>\n",
              "      <td>2021-10-07 10:32:47+00:00</td>\n",
              "      <td>1446060933290225674</td>\n",
              "      <td>1446060933290225664</td>\n",
              "      <td>Menjelang akhir tahun, bakalan banyak bgt disu...</td>\n",
              "      <td>False</td>\n",
              "      <td>[0, 191]</td>\n",
              "      <td>{'hashtags': [{'text': 'ThomasCup2021', 'indic...</td>\n",
              "      <td>{'iso_language_code': 'in', 'result_type': 're...</td>\n",
              "      <td>&lt;a href=\"http://twitter.com/download/android\" ...</td>\n",
              "      <td>NaN</td>\n",
              "      <td>NaN</td>\n",
              "      <td>NaN</td>\n",
              "      <td>NaN</td>\n",
              "      <td>None</td>\n",
              "      <td>{'id': 1442312302733135874, 'id_str': '1442312...</td>\n",
              "      <td>NaN</td>\n",
              "      <td>NaN</td>\n",
              "      <td>None</td>\n",
              "      <td>NaN</td>\n",
              "      <td>False</td>\n",
              "      <td>0</td>\n",
              "      <td>0</td>\n",
              "      <td>False</td>\n",
              "      <td>False</td>\n",
              "      <td>in</td>\n",
              "      <td>NaN</td>\n",
              "      <td>NaN</td>\n",
              "      <td>NaN</td>\n",
              "      <td>NaN</td>\n",
              "      <td>NaN</td>\n",
              "      <td>NaN</td>\n",
              "    </tr>\n",
              "    <tr>\n",
              "      <th>41295</th>\n",
              "      <td>2021-10-07 04:26:54+00:00</td>\n",
              "      <td>1445968853331169288</td>\n",
              "      <td>1445968853331169280</td>\n",
              "      <td>Yang mau nonton TUC di Vidio pake kode REF1B84...</td>\n",
              "      <td>False</td>\n",
              "      <td>[0, 125]</td>\n",
              "      <td>{'hashtags': [{'text': 'ThomasCup2021', 'indic...</td>\n",
              "      <td>{'iso_language_code': 'in', 'result_type': 're...</td>\n",
              "      <td>&lt;a href=\"http://twitter.com/download/android\" ...</td>\n",
              "      <td>NaN</td>\n",
              "      <td>NaN</td>\n",
              "      <td>NaN</td>\n",
              "      <td>NaN</td>\n",
              "      <td>None</td>\n",
              "      <td>{'id': 1322054549473906688, 'id_str': '1322054...</td>\n",
              "      <td>NaN</td>\n",
              "      <td>NaN</td>\n",
              "      <td>None</td>\n",
              "      <td>NaN</td>\n",
              "      <td>False</td>\n",
              "      <td>0</td>\n",
              "      <td>1</td>\n",
              "      <td>False</td>\n",
              "      <td>False</td>\n",
              "      <td>in</td>\n",
              "      <td>NaN</td>\n",
              "      <td>NaN</td>\n",
              "      <td>NaN</td>\n",
              "      <td>NaN</td>\n",
              "      <td>NaN</td>\n",
              "      <td>NaN</td>\n",
              "    </tr>\n",
              "  </tbody>\n",
              "</table>\n",
              "<p>41243 rows × 31 columns</p>\n",
              "</div>"
            ],
            "text/plain": [
              "                     created_at  ...  quoted_status\n",
              "0     2021-10-15 13:34:24+00:00  ...            NaN\n",
              "1     2021-10-15 13:34:22+00:00  ...            NaN\n",
              "2     2021-10-15 13:34:21+00:00  ...            NaN\n",
              "3     2021-10-15 13:34:13+00:00  ...            NaN\n",
              "4     2021-10-15 13:34:13+00:00  ...            NaN\n",
              "...                         ...  ...            ...\n",
              "41291 2021-10-07 12:56:32+00:00  ...            NaN\n",
              "41292 2021-10-07 12:55:39+00:00  ...            NaN\n",
              "41293 2021-10-07 10:47:58+00:00  ...            NaN\n",
              "41294 2021-10-07 10:32:47+00:00  ...            NaN\n",
              "41295 2021-10-07 04:26:54+00:00  ...            NaN\n",
              "\n",
              "[41243 rows x 31 columns]"
            ]
          },
          "metadata": {},
          "execution_count": 14
        }
      ]
    },
    {
      "cell_type": "code",
      "metadata": {
        "id": "kJxrKLDQgzsM"
      },
      "source": [
        "dataFinal = dataFinal.reset_index(drop= True)"
      ],
      "execution_count": null,
      "outputs": []
    },
    {
      "cell_type": "markdown",
      "metadata": {
        "id": "oV5U2G82nNio"
      },
      "source": [
        "## Statistika deskriptif"
      ]
    },
    {
      "cell_type": "code",
      "metadata": {
        "id": "X9KpjKBznT-p",
        "colab": {
          "base_uri": "https://localhost:8080/",
          "height": 317
        },
        "outputId": "b9aacf6c-aac9-42bf-87f1-e2f96d7de61a"
      },
      "source": [
        "dataFinal.describe()"
      ],
      "execution_count": null,
      "outputs": [
        {
          "output_type": "execute_result",
          "data": {
            "text/html": [
              "<div>\n",
              "<style scoped>\n",
              "    .dataframe tbody tr th:only-of-type {\n",
              "        vertical-align: middle;\n",
              "    }\n",
              "\n",
              "    .dataframe tbody tr th {\n",
              "        vertical-align: top;\n",
              "    }\n",
              "\n",
              "    .dataframe thead th {\n",
              "        text-align: right;\n",
              "    }\n",
              "</style>\n",
              "<table border=\"1\" class=\"dataframe\">\n",
              "  <thead>\n",
              "    <tr style=\"text-align: right;\">\n",
              "      <th></th>\n",
              "      <th>id</th>\n",
              "      <th>id_str</th>\n",
              "      <th>in_reply_to_status_id</th>\n",
              "      <th>in_reply_to_status_id_str</th>\n",
              "      <th>in_reply_to_user_id</th>\n",
              "      <th>in_reply_to_user_id_str</th>\n",
              "      <th>contributors</th>\n",
              "      <th>retweet_count</th>\n",
              "      <th>favorite_count</th>\n",
              "      <th>possibly_sensitive</th>\n",
              "      <th>quoted_status_id</th>\n",
              "      <th>quoted_status_id_str</th>\n",
              "    </tr>\n",
              "  </thead>\n",
              "  <tbody>\n",
              "    <tr>\n",
              "      <th>count</th>\n",
              "      <td>4.129600e+04</td>\n",
              "      <td>4.129600e+04</td>\n",
              "      <td>5.845000e+03</td>\n",
              "      <td>5.845000e+03</td>\n",
              "      <td>5.877000e+03</td>\n",
              "      <td>5.877000e+03</td>\n",
              "      <td>0.0</td>\n",
              "      <td>41296.000000</td>\n",
              "      <td>41296.000000</td>\n",
              "      <td>3878.000000</td>\n",
              "      <td>1.534000e+03</td>\n",
              "      <td>1.534000e+03</td>\n",
              "    </tr>\n",
              "    <tr>\n",
              "      <th>mean</th>\n",
              "      <td>1.448745e+18</td>\n",
              "      <td>1.448745e+18</td>\n",
              "      <td>1.448766e+18</td>\n",
              "      <td>1.448766e+18</td>\n",
              "      <td>4.047519e+17</td>\n",
              "      <td>4.047519e+17</td>\n",
              "      <td>NaN</td>\n",
              "      <td>506.668128</td>\n",
              "      <td>3.660330</td>\n",
              "      <td>0.049252</td>\n",
              "      <td>1.426784e+18</td>\n",
              "      <td>1.426784e+18</td>\n",
              "    </tr>\n",
              "    <tr>\n",
              "      <th>std</th>\n",
              "      <td>3.801632e+14</td>\n",
              "      <td>3.801632e+14</td>\n",
              "      <td>6.138786e+14</td>\n",
              "      <td>6.138786e+14</td>\n",
              "      <td>5.781575e+17</td>\n",
              "      <td>5.781575e+17</td>\n",
              "      <td>NaN</td>\n",
              "      <td>924.956888</td>\n",
              "      <td>82.735804</td>\n",
              "      <td>0.216422</td>\n",
              "      <td>9.044800e+16</td>\n",
              "      <td>9.044800e+16</td>\n",
              "    </tr>\n",
              "    <tr>\n",
              "      <th>min</th>\n",
              "      <td>1.445969e+18</td>\n",
              "      <td>1.445969e+18</td>\n",
              "      <td>1.419219e+18</td>\n",
              "      <td>1.419219e+18</td>\n",
              "      <td>3.562471e+06</td>\n",
              "      <td>3.562471e+06</td>\n",
              "      <td>NaN</td>\n",
              "      <td>0.000000</td>\n",
              "      <td>0.000000</td>\n",
              "      <td>0.000000</td>\n",
              "      <td>4.796282e+17</td>\n",
              "      <td>4.796282e+17</td>\n",
              "    </tr>\n",
              "    <tr>\n",
              "      <th>25%</th>\n",
              "      <td>1.448601e+18</td>\n",
              "      <td>1.448601e+18</td>\n",
              "      <td>1.448625e+18</td>\n",
              "      <td>1.448625e+18</td>\n",
              "      <td>2.223145e+09</td>\n",
              "      <td>2.223145e+09</td>\n",
              "      <td>NaN</td>\n",
              "      <td>0.000000</td>\n",
              "      <td>0.000000</td>\n",
              "      <td>0.000000</td>\n",
              "      <td>1.448218e+18</td>\n",
              "      <td>1.448218e+18</td>\n",
              "    </tr>\n",
              "    <tr>\n",
              "      <th>50%</th>\n",
              "      <td>1.448980e+18</td>\n",
              "      <td>1.448980e+18</td>\n",
              "      <td>1.448943e+18</td>\n",
              "      <td>1.448943e+18</td>\n",
              "      <td>2.941773e+09</td>\n",
              "      <td>2.941773e+09</td>\n",
              "      <td>NaN</td>\n",
              "      <td>5.000000</td>\n",
              "      <td>0.000000</td>\n",
              "      <td>0.000000</td>\n",
              "      <td>1.448677e+18</td>\n",
              "      <td>1.448677e+18</td>\n",
              "    </tr>\n",
              "    <tr>\n",
              "      <th>75%</th>\n",
              "      <td>1.448990e+18</td>\n",
              "      <td>1.448990e+18</td>\n",
              "      <td>1.448987e+18</td>\n",
              "      <td>1.448987e+18</td>\n",
              "      <td>1.088674e+18</td>\n",
              "      <td>1.088674e+18</td>\n",
              "      <td>NaN</td>\n",
              "      <td>476.000000</td>\n",
              "      <td>0.000000</td>\n",
              "      <td>0.000000</td>\n",
              "      <td>1.448972e+18</td>\n",
              "      <td>1.448972e+18</td>\n",
              "    </tr>\n",
              "    <tr>\n",
              "      <th>max</th>\n",
              "      <td>1.449006e+18</td>\n",
              "      <td>1.449006e+18</td>\n",
              "      <td>1.449005e+18</td>\n",
              "      <td>1.449005e+18</td>\n",
              "      <td>1.448970e+18</td>\n",
              "      <td>1.448970e+18</td>\n",
              "      <td>NaN</td>\n",
              "      <td>11453.000000</td>\n",
              "      <td>6525.000000</td>\n",
              "      <td>1.000000</td>\n",
              "      <td>1.449003e+18</td>\n",
              "      <td>1.449003e+18</td>\n",
              "    </tr>\n",
              "  </tbody>\n",
              "</table>\n",
              "</div>"
            ],
            "text/plain": [
              "                 id        id_str  ...  quoted_status_id  quoted_status_id_str\n",
              "count  4.129600e+04  4.129600e+04  ...      1.534000e+03          1.534000e+03\n",
              "mean   1.448745e+18  1.448745e+18  ...      1.426784e+18          1.426784e+18\n",
              "std    3.801632e+14  3.801632e+14  ...      9.044800e+16          9.044800e+16\n",
              "min    1.445969e+18  1.445969e+18  ...      4.796282e+17          4.796282e+17\n",
              "25%    1.448601e+18  1.448601e+18  ...      1.448218e+18          1.448218e+18\n",
              "50%    1.448980e+18  1.448980e+18  ...      1.448677e+18          1.448677e+18\n",
              "75%    1.448990e+18  1.448990e+18  ...      1.448972e+18          1.448972e+18\n",
              "max    1.449006e+18  1.449006e+18  ...      1.449003e+18          1.449003e+18\n",
              "\n",
              "[8 rows x 12 columns]"
            ]
          },
          "metadata": {},
          "execution_count": 16
        }
      ]
    },
    {
      "cell_type": "code",
      "metadata": {
        "id": "xhu3Dhq3nbLk",
        "colab": {
          "base_uri": "https://localhost:8080/",
          "height": 565
        },
        "outputId": "6fc25ac9-32f6-4f5a-b220-cff819575c74"
      },
      "source": [
        "# Statistika Sederhana dari data \"Numerik\"-nya\n",
        "dataFinal.corr()"
      ],
      "execution_count": null,
      "outputs": [
        {
          "output_type": "execute_result",
          "data": {
            "text/html": [
              "<div>\n",
              "<style scoped>\n",
              "    .dataframe tbody tr th:only-of-type {\n",
              "        vertical-align: middle;\n",
              "    }\n",
              "\n",
              "    .dataframe tbody tr th {\n",
              "        vertical-align: top;\n",
              "    }\n",
              "\n",
              "    .dataframe thead th {\n",
              "        text-align: right;\n",
              "    }\n",
              "</style>\n",
              "<table border=\"1\" class=\"dataframe\">\n",
              "  <thead>\n",
              "    <tr style=\"text-align: right;\">\n",
              "      <th></th>\n",
              "      <th>id</th>\n",
              "      <th>id_str</th>\n",
              "      <th>truncated</th>\n",
              "      <th>in_reply_to_status_id</th>\n",
              "      <th>in_reply_to_status_id_str</th>\n",
              "      <th>in_reply_to_user_id</th>\n",
              "      <th>in_reply_to_user_id_str</th>\n",
              "      <th>contributors</th>\n",
              "      <th>is_quote_status</th>\n",
              "      <th>retweet_count</th>\n",
              "      <th>favorite_count</th>\n",
              "      <th>favorited</th>\n",
              "      <th>retweeted</th>\n",
              "      <th>possibly_sensitive</th>\n",
              "      <th>quoted_status_id</th>\n",
              "      <th>quoted_status_id_str</th>\n",
              "    </tr>\n",
              "  </thead>\n",
              "  <tbody>\n",
              "    <tr>\n",
              "      <th>id</th>\n",
              "      <td>1.000000</td>\n",
              "      <td>1.000000</td>\n",
              "      <td>NaN</td>\n",
              "      <td>0.473124</td>\n",
              "      <td>0.473124</td>\n",
              "      <td>-0.222684</td>\n",
              "      <td>-0.222684</td>\n",
              "      <td>NaN</td>\n",
              "      <td>-0.037499</td>\n",
              "      <td>0.228127</td>\n",
              "      <td>-0.008095</td>\n",
              "      <td>NaN</td>\n",
              "      <td>NaN</td>\n",
              "      <td>0.035722</td>\n",
              "      <td>0.346375</td>\n",
              "      <td>0.346375</td>\n",
              "    </tr>\n",
              "    <tr>\n",
              "      <th>id_str</th>\n",
              "      <td>1.000000</td>\n",
              "      <td>1.000000</td>\n",
              "      <td>NaN</td>\n",
              "      <td>0.473124</td>\n",
              "      <td>0.473124</td>\n",
              "      <td>-0.222684</td>\n",
              "      <td>-0.222684</td>\n",
              "      <td>NaN</td>\n",
              "      <td>-0.037499</td>\n",
              "      <td>0.228127</td>\n",
              "      <td>-0.008095</td>\n",
              "      <td>NaN</td>\n",
              "      <td>NaN</td>\n",
              "      <td>0.035722</td>\n",
              "      <td>0.346375</td>\n",
              "      <td>0.346375</td>\n",
              "    </tr>\n",
              "    <tr>\n",
              "      <th>truncated</th>\n",
              "      <td>NaN</td>\n",
              "      <td>NaN</td>\n",
              "      <td>NaN</td>\n",
              "      <td>NaN</td>\n",
              "      <td>NaN</td>\n",
              "      <td>NaN</td>\n",
              "      <td>NaN</td>\n",
              "      <td>NaN</td>\n",
              "      <td>NaN</td>\n",
              "      <td>NaN</td>\n",
              "      <td>NaN</td>\n",
              "      <td>NaN</td>\n",
              "      <td>NaN</td>\n",
              "      <td>NaN</td>\n",
              "      <td>NaN</td>\n",
              "      <td>NaN</td>\n",
              "    </tr>\n",
              "    <tr>\n",
              "      <th>in_reply_to_status_id</th>\n",
              "      <td>0.473124</td>\n",
              "      <td>0.473124</td>\n",
              "      <td>NaN</td>\n",
              "      <td>1.000000</td>\n",
              "      <td>1.000000</td>\n",
              "      <td>-0.114019</td>\n",
              "      <td>-0.114019</td>\n",
              "      <td>NaN</td>\n",
              "      <td>-0.018533</td>\n",
              "      <td>-0.001809</td>\n",
              "      <td>-0.001682</td>\n",
              "      <td>NaN</td>\n",
              "      <td>NaN</td>\n",
              "      <td>-0.217664</td>\n",
              "      <td>0.933340</td>\n",
              "      <td>0.933340</td>\n",
              "    </tr>\n",
              "    <tr>\n",
              "      <th>in_reply_to_status_id_str</th>\n",
              "      <td>0.473124</td>\n",
              "      <td>0.473124</td>\n",
              "      <td>NaN</td>\n",
              "      <td>1.000000</td>\n",
              "      <td>1.000000</td>\n",
              "      <td>-0.114019</td>\n",
              "      <td>-0.114019</td>\n",
              "      <td>NaN</td>\n",
              "      <td>-0.018533</td>\n",
              "      <td>-0.001809</td>\n",
              "      <td>-0.001682</td>\n",
              "      <td>NaN</td>\n",
              "      <td>NaN</td>\n",
              "      <td>-0.217664</td>\n",
              "      <td>0.933340</td>\n",
              "      <td>0.933340</td>\n",
              "    </tr>\n",
              "    <tr>\n",
              "      <th>in_reply_to_user_id</th>\n",
              "      <td>-0.222684</td>\n",
              "      <td>-0.222684</td>\n",
              "      <td>NaN</td>\n",
              "      <td>-0.114019</td>\n",
              "      <td>-0.114019</td>\n",
              "      <td>1.000000</td>\n",
              "      <td>1.000000</td>\n",
              "      <td>NaN</td>\n",
              "      <td>0.002173</td>\n",
              "      <td>-0.048169</td>\n",
              "      <td>-0.063034</td>\n",
              "      <td>NaN</td>\n",
              "      <td>NaN</td>\n",
              "      <td>-0.089138</td>\n",
              "      <td>-0.381267</td>\n",
              "      <td>-0.381267</td>\n",
              "    </tr>\n",
              "    <tr>\n",
              "      <th>in_reply_to_user_id_str</th>\n",
              "      <td>-0.222684</td>\n",
              "      <td>-0.222684</td>\n",
              "      <td>NaN</td>\n",
              "      <td>-0.114019</td>\n",
              "      <td>-0.114019</td>\n",
              "      <td>1.000000</td>\n",
              "      <td>1.000000</td>\n",
              "      <td>NaN</td>\n",
              "      <td>0.002173</td>\n",
              "      <td>-0.048169</td>\n",
              "      <td>-0.063034</td>\n",
              "      <td>NaN</td>\n",
              "      <td>NaN</td>\n",
              "      <td>-0.089138</td>\n",
              "      <td>-0.381267</td>\n",
              "      <td>-0.381267</td>\n",
              "    </tr>\n",
              "    <tr>\n",
              "      <th>contributors</th>\n",
              "      <td>NaN</td>\n",
              "      <td>NaN</td>\n",
              "      <td>NaN</td>\n",
              "      <td>NaN</td>\n",
              "      <td>NaN</td>\n",
              "      <td>NaN</td>\n",
              "      <td>NaN</td>\n",
              "      <td>NaN</td>\n",
              "      <td>NaN</td>\n",
              "      <td>NaN</td>\n",
              "      <td>NaN</td>\n",
              "      <td>NaN</td>\n",
              "      <td>NaN</td>\n",
              "      <td>NaN</td>\n",
              "      <td>NaN</td>\n",
              "      <td>NaN</td>\n",
              "    </tr>\n",
              "    <tr>\n",
              "      <th>is_quote_status</th>\n",
              "      <td>-0.037499</td>\n",
              "      <td>-0.037499</td>\n",
              "      <td>NaN</td>\n",
              "      <td>-0.018533</td>\n",
              "      <td>-0.018533</td>\n",
              "      <td>0.002173</td>\n",
              "      <td>0.002173</td>\n",
              "      <td>NaN</td>\n",
              "      <td>1.000000</td>\n",
              "      <td>-0.093298</td>\n",
              "      <td>0.000413</td>\n",
              "      <td>NaN</td>\n",
              "      <td>NaN</td>\n",
              "      <td>-0.016594</td>\n",
              "      <td>NaN</td>\n",
              "      <td>NaN</td>\n",
              "    </tr>\n",
              "    <tr>\n",
              "      <th>retweet_count</th>\n",
              "      <td>0.228127</td>\n",
              "      <td>0.228127</td>\n",
              "      <td>NaN</td>\n",
              "      <td>-0.001809</td>\n",
              "      <td>-0.001809</td>\n",
              "      <td>-0.048169</td>\n",
              "      <td>-0.048169</td>\n",
              "      <td>NaN</td>\n",
              "      <td>-0.093298</td>\n",
              "      <td>1.000000</td>\n",
              "      <td>0.004476</td>\n",
              "      <td>NaN</td>\n",
              "      <td>NaN</td>\n",
              "      <td>0.047152</td>\n",
              "      <td>-0.201786</td>\n",
              "      <td>-0.201786</td>\n",
              "    </tr>\n",
              "    <tr>\n",
              "      <th>favorite_count</th>\n",
              "      <td>-0.008095</td>\n",
              "      <td>-0.008095</td>\n",
              "      <td>NaN</td>\n",
              "      <td>-0.001682</td>\n",
              "      <td>-0.001682</td>\n",
              "      <td>-0.063034</td>\n",
              "      <td>-0.063034</td>\n",
              "      <td>NaN</td>\n",
              "      <td>0.000413</td>\n",
              "      <td>0.004476</td>\n",
              "      <td>1.000000</td>\n",
              "      <td>NaN</td>\n",
              "      <td>NaN</td>\n",
              "      <td>-0.020859</td>\n",
              "      <td>-0.018944</td>\n",
              "      <td>-0.018944</td>\n",
              "    </tr>\n",
              "    <tr>\n",
              "      <th>favorited</th>\n",
              "      <td>NaN</td>\n",
              "      <td>NaN</td>\n",
              "      <td>NaN</td>\n",
              "      <td>NaN</td>\n",
              "      <td>NaN</td>\n",
              "      <td>NaN</td>\n",
              "      <td>NaN</td>\n",
              "      <td>NaN</td>\n",
              "      <td>NaN</td>\n",
              "      <td>NaN</td>\n",
              "      <td>NaN</td>\n",
              "      <td>NaN</td>\n",
              "      <td>NaN</td>\n",
              "      <td>NaN</td>\n",
              "      <td>NaN</td>\n",
              "      <td>NaN</td>\n",
              "    </tr>\n",
              "    <tr>\n",
              "      <th>retweeted</th>\n",
              "      <td>NaN</td>\n",
              "      <td>NaN</td>\n",
              "      <td>NaN</td>\n",
              "      <td>NaN</td>\n",
              "      <td>NaN</td>\n",
              "      <td>NaN</td>\n",
              "      <td>NaN</td>\n",
              "      <td>NaN</td>\n",
              "      <td>NaN</td>\n",
              "      <td>NaN</td>\n",
              "      <td>NaN</td>\n",
              "      <td>NaN</td>\n",
              "      <td>NaN</td>\n",
              "      <td>NaN</td>\n",
              "      <td>NaN</td>\n",
              "      <td>NaN</td>\n",
              "    </tr>\n",
              "    <tr>\n",
              "      <th>possibly_sensitive</th>\n",
              "      <td>0.035722</td>\n",
              "      <td>0.035722</td>\n",
              "      <td>NaN</td>\n",
              "      <td>-0.217664</td>\n",
              "      <td>-0.217664</td>\n",
              "      <td>-0.089138</td>\n",
              "      <td>-0.089138</td>\n",
              "      <td>NaN</td>\n",
              "      <td>-0.016594</td>\n",
              "      <td>0.047152</td>\n",
              "      <td>-0.020859</td>\n",
              "      <td>NaN</td>\n",
              "      <td>NaN</td>\n",
              "      <td>1.000000</td>\n",
              "      <td>0.015179</td>\n",
              "      <td>0.015179</td>\n",
              "    </tr>\n",
              "    <tr>\n",
              "      <th>quoted_status_id</th>\n",
              "      <td>0.346375</td>\n",
              "      <td>0.346375</td>\n",
              "      <td>NaN</td>\n",
              "      <td>0.933340</td>\n",
              "      <td>0.933340</td>\n",
              "      <td>-0.381267</td>\n",
              "      <td>-0.381267</td>\n",
              "      <td>NaN</td>\n",
              "      <td>NaN</td>\n",
              "      <td>-0.201786</td>\n",
              "      <td>-0.018944</td>\n",
              "      <td>NaN</td>\n",
              "      <td>NaN</td>\n",
              "      <td>0.015179</td>\n",
              "      <td>1.000000</td>\n",
              "      <td>1.000000</td>\n",
              "    </tr>\n",
              "    <tr>\n",
              "      <th>quoted_status_id_str</th>\n",
              "      <td>0.346375</td>\n",
              "      <td>0.346375</td>\n",
              "      <td>NaN</td>\n",
              "      <td>0.933340</td>\n",
              "      <td>0.933340</td>\n",
              "      <td>-0.381267</td>\n",
              "      <td>-0.381267</td>\n",
              "      <td>NaN</td>\n",
              "      <td>NaN</td>\n",
              "      <td>-0.201786</td>\n",
              "      <td>-0.018944</td>\n",
              "      <td>NaN</td>\n",
              "      <td>NaN</td>\n",
              "      <td>0.015179</td>\n",
              "      <td>1.000000</td>\n",
              "      <td>1.000000</td>\n",
              "    </tr>\n",
              "  </tbody>\n",
              "</table>\n",
              "</div>"
            ],
            "text/plain": [
              "                                 id  ...  quoted_status_id_str\n",
              "id                         1.000000  ...              0.346375\n",
              "id_str                     1.000000  ...              0.346375\n",
              "truncated                       NaN  ...                   NaN\n",
              "in_reply_to_status_id      0.473124  ...              0.933340\n",
              "in_reply_to_status_id_str  0.473124  ...              0.933340\n",
              "in_reply_to_user_id       -0.222684  ...             -0.381267\n",
              "in_reply_to_user_id_str   -0.222684  ...             -0.381267\n",
              "contributors                    NaN  ...                   NaN\n",
              "is_quote_status           -0.037499  ...                   NaN\n",
              "retweet_count              0.228127  ...             -0.201786\n",
              "favorite_count            -0.008095  ...             -0.018944\n",
              "favorited                       NaN  ...                   NaN\n",
              "retweeted                       NaN  ...                   NaN\n",
              "possibly_sensitive         0.035722  ...              0.015179\n",
              "quoted_status_id           0.346375  ...              1.000000\n",
              "quoted_status_id_str       0.346375  ...              1.000000\n",
              "\n",
              "[16 rows x 16 columns]"
            ]
          },
          "metadata": {},
          "execution_count": 17
        }
      ]
    },
    {
      "cell_type": "markdown",
      "metadata": {
        "id": "5IHZv8dBhnvI"
      },
      "source": [
        "## Teks Processing"
      ]
    },
    {
      "cell_type": "markdown",
      "metadata": {
        "id": "JgKCG2rmw_B7"
      },
      "source": [
        "**Import Modul**"
      ]
    },
    {
      "cell_type": "code",
      "metadata": {
        "colab": {
          "base_uri": "https://localhost:8080/"
        },
        "id": "98VILXOanZ3J",
        "outputId": "aa544273-116d-4e30-daf2-9aa7918f5991"
      },
      "source": [
        "pip install docx2txt"
      ],
      "execution_count": null,
      "outputs": [
        {
          "output_type": "stream",
          "name": "stdout",
          "text": [
            "Requirement already satisfied: docx2txt in /usr/local/lib/python3.7/dist-packages (0.8)\n"
          ]
        }
      ]
    },
    {
      "cell_type": "code",
      "metadata": {
        "colab": {
          "base_uri": "https://localhost:8080/"
        },
        "id": "Ecw-xJElxMbo",
        "outputId": "8bd70412-33cd-4ba7-b563-d1bfa0b80d00"
      },
      "source": [
        "pip install Unidecode"
      ],
      "execution_count": null,
      "outputs": [
        {
          "output_type": "stream",
          "name": "stdout",
          "text": [
            "Requirement already satisfied: Unidecode in /usr/local/lib/python3.7/dist-packages (1.3.2)\n"
          ]
        }
      ]
    },
    {
      "cell_type": "code",
      "metadata": {
        "colab": {
          "base_uri": "https://localhost:8080/"
        },
        "id": "PwQYTiMRxN1_",
        "outputId": "484847c7-2e17-4107-bd56-84eb0073db0d"
      },
      "source": [
        "import nltk\n",
        "nltk.download('punkt')"
      ],
      "execution_count": null,
      "outputs": [
        {
          "output_type": "stream",
          "name": "stdout",
          "text": [
            "[nltk_data] Downloading package punkt to /root/nltk_data...\n",
            "[nltk_data]   Package punkt is already up-to-date!\n"
          ]
        },
        {
          "output_type": "execute_result",
          "data": {
            "text/plain": [
              "True"
            ]
          },
          "metadata": {},
          "execution_count": 20
        }
      ]
    },
    {
      "cell_type": "code",
      "metadata": {
        "id": "vgfZddBgxN__"
      },
      "source": [
        "import re, os, itertools, docx2txt\n",
        "from tqdm import tqdm\n",
        "from nltk.stem import WordNetLemmatizer\n",
        "from nltk import sent_tokenize, word_tokenize\n",
        "from spacy.lang.id import Indonesian\n",
        "from html import unescape\n",
        "from unidecode import unidecode\n",
        "import pandas as pd\n",
        "from nltk.tokenize import TweetTokenizer; Tokenizer = TweetTokenizer(reduce_len=True)\n",
        "from nltk.stem import PorterStemmer;ps = PorterStemmer()\n",
        "from string import punctuation\n",
        "from bz2 import BZ2File as bz2\n",
        "from sklearn.feature_extraction.text import CountVectorizer\n",
        "from sklearn.decomposition import LatentDirichletAllocation as LDA\n",
        "import matplotlib.pyplot as plt\n",
        "import numpy as np\n",
        "from textblob import TextBlob\n",
        "import time\n",
        "from tqdm import tqdm\n",
        "from google.colab import files"
      ],
      "execution_count": null,
      "outputs": []
    },
    {
      "cell_type": "code",
      "metadata": {
        "colab": {
          "base_uri": "https://localhost:8080/"
        },
        "id": "JEeDSy3R5PVv",
        "outputId": "9c0a6564-dcae-4698-bc77-fe5f3baff523"
      },
      "source": [
        "!ls"
      ],
      "execution_count": null,
      "outputs": [
        {
          "output_type": "stream",
          "name": "stdout",
          "text": [
            "sample_data  Twitter-data-processing\n"
          ]
        }
      ]
    },
    {
      "cell_type": "markdown",
      "metadata": {
        "id": "G2jvQjYe5q5n"
      },
      "source": [
        "Load data"
      ]
    },
    {
      "cell_type": "code",
      "metadata": {
        "colab": {
          "base_uri": "https://localhost:8080/",
          "height": 462
        },
        "id": "mMhK7HQx5obh",
        "outputId": "dc3ccb44-ea80-49c3-93cd-23b47a022ed9"
      },
      "source": [
        "dataFinal.head()"
      ],
      "execution_count": null,
      "outputs": [
        {
          "output_type": "execute_result",
          "data": {
            "text/html": [
              "<div>\n",
              "<style scoped>\n",
              "    .dataframe tbody tr th:only-of-type {\n",
              "        vertical-align: middle;\n",
              "    }\n",
              "\n",
              "    .dataframe tbody tr th {\n",
              "        vertical-align: top;\n",
              "    }\n",
              "\n",
              "    .dataframe thead th {\n",
              "        text-align: right;\n",
              "    }\n",
              "</style>\n",
              "<table border=\"1\" class=\"dataframe\">\n",
              "  <thead>\n",
              "    <tr style=\"text-align: right;\">\n",
              "      <th></th>\n",
              "      <th>created_at</th>\n",
              "      <th>id</th>\n",
              "      <th>id_str</th>\n",
              "      <th>full_text</th>\n",
              "      <th>truncated</th>\n",
              "      <th>display_text_range</th>\n",
              "      <th>entities</th>\n",
              "      <th>metadata</th>\n",
              "      <th>source</th>\n",
              "      <th>in_reply_to_status_id</th>\n",
              "      <th>in_reply_to_status_id_str</th>\n",
              "      <th>in_reply_to_user_id</th>\n",
              "      <th>in_reply_to_user_id_str</th>\n",
              "      <th>in_reply_to_screen_name</th>\n",
              "      <th>user</th>\n",
              "      <th>geo</th>\n",
              "      <th>coordinates</th>\n",
              "      <th>place</th>\n",
              "      <th>contributors</th>\n",
              "      <th>is_quote_status</th>\n",
              "      <th>retweet_count</th>\n",
              "      <th>favorite_count</th>\n",
              "      <th>favorited</th>\n",
              "      <th>retweeted</th>\n",
              "      <th>lang</th>\n",
              "      <th>retweeted_status</th>\n",
              "      <th>extended_entities</th>\n",
              "      <th>possibly_sensitive</th>\n",
              "      <th>quoted_status_id</th>\n",
              "      <th>quoted_status_id_str</th>\n",
              "      <th>quoted_status</th>\n",
              "    </tr>\n",
              "  </thead>\n",
              "  <tbody>\n",
              "    <tr>\n",
              "      <th>0</th>\n",
              "      <td>2021-10-15 13:34:24+00:00</td>\n",
              "      <td>1449005740664897537</td>\n",
              "      <td>1449005740664897536</td>\n",
              "      <td>Penat aku tengok badminton</td>\n",
              "      <td>False</td>\n",
              "      <td>[0, 26]</td>\n",
              "      <td>{'hashtags': [], 'symbols': [], 'user_mentions...</td>\n",
              "      <td>{'iso_language_code': 'in', 'result_type': 're...</td>\n",
              "      <td>&lt;a href=\"http://twitter.com/download/iphone\" r...</td>\n",
              "      <td>NaN</td>\n",
              "      <td>NaN</td>\n",
              "      <td>NaN</td>\n",
              "      <td>NaN</td>\n",
              "      <td>None</td>\n",
              "      <td>{'id': 936196220480978945, 'id_str': '93619622...</td>\n",
              "      <td>None</td>\n",
              "      <td>None</td>\n",
              "      <td>None</td>\n",
              "      <td>NaN</td>\n",
              "      <td>False</td>\n",
              "      <td>0</td>\n",
              "      <td>0</td>\n",
              "      <td>False</td>\n",
              "      <td>False</td>\n",
              "      <td>in</td>\n",
              "      <td>NaN</td>\n",
              "      <td>NaN</td>\n",
              "      <td>NaN</td>\n",
              "      <td>NaN</td>\n",
              "      <td>NaN</td>\n",
              "      <td>NaN</td>\n",
              "    </tr>\n",
              "    <tr>\n",
              "      <th>1</th>\n",
              "      <td>2021-10-15 13:34:22+00:00</td>\n",
              "      <td>1449005730535645185</td>\n",
              "      <td>1449005730535645184</td>\n",
              "      <td>RT @FarishaChaa: Member sedap makan dekat food...</td>\n",
              "      <td>False</td>\n",
              "      <td>[0, 140]</td>\n",
              "      <td>{'hashtags': [], 'symbols': [], 'user_mentions...</td>\n",
              "      <td>{'iso_language_code': 'in', 'result_type': 're...</td>\n",
              "      <td>&lt;a href=\"http://twitter.com/download/android\" ...</td>\n",
              "      <td>NaN</td>\n",
              "      <td>NaN</td>\n",
              "      <td>NaN</td>\n",
              "      <td>NaN</td>\n",
              "      <td>None</td>\n",
              "      <td>{'id': 400485536, 'id_str': '400485536', 'name...</td>\n",
              "      <td>None</td>\n",
              "      <td>None</td>\n",
              "      <td>None</td>\n",
              "      <td>NaN</td>\n",
              "      <td>False</td>\n",
              "      <td>230</td>\n",
              "      <td>0</td>\n",
              "      <td>False</td>\n",
              "      <td>False</td>\n",
              "      <td>in</td>\n",
              "      <td>{'created_at': 'Fri Oct 15 10:59:30 +0000 2021...</td>\n",
              "      <td>NaN</td>\n",
              "      <td>NaN</td>\n",
              "      <td>NaN</td>\n",
              "      <td>NaN</td>\n",
              "      <td>NaN</td>\n",
              "    </tr>\n",
              "    <tr>\n",
              "      <th>2</th>\n",
              "      <td>2021-10-15 13:34:21+00:00</td>\n",
              "      <td>1449005729373773826</td>\n",
              "      <td>1449005729373773824</td>\n",
              "      <td>Kalau mau OT nonton badminton aja jangan IC ga...</td>\n",
              "      <td>False</td>\n",
              "      <td>[0, 80]</td>\n",
              "      <td>{'hashtags': [], 'symbols': [], 'user_mentions...</td>\n",
              "      <td>{'iso_language_code': 'in', 'result_type': 're...</td>\n",
              "      <td>&lt;a href=\"http://twitter.com/download/android\" ...</td>\n",
              "      <td>NaN</td>\n",
              "      <td>NaN</td>\n",
              "      <td>NaN</td>\n",
              "      <td>NaN</td>\n",
              "      <td>None</td>\n",
              "      <td>{'id': 1417001386865168385, 'id_str': '1417001...</td>\n",
              "      <td>None</td>\n",
              "      <td>None</td>\n",
              "      <td>None</td>\n",
              "      <td>NaN</td>\n",
              "      <td>False</td>\n",
              "      <td>0</td>\n",
              "      <td>0</td>\n",
              "      <td>False</td>\n",
              "      <td>False</td>\n",
              "      <td>in</td>\n",
              "      <td>NaN</td>\n",
              "      <td>NaN</td>\n",
              "      <td>NaN</td>\n",
              "      <td>NaN</td>\n",
              "      <td>NaN</td>\n",
              "      <td>NaN</td>\n",
              "    </tr>\n",
              "    <tr>\n",
              "      <th>3</th>\n",
              "      <td>2021-10-15 13:34:13+00:00</td>\n",
              "      <td>1449005695383203840</td>\n",
              "      <td>1449005695383203840</td>\n",
              "      <td>Gak nonton Badminton penasaran, pas giliran bi...</td>\n",
              "      <td>False</td>\n",
              "      <td>[0, 86]</td>\n",
              "      <td>{'hashtags': [{'text': 'ThomasCup', 'indices':...</td>\n",
              "      <td>{'iso_language_code': 'in', 'result_type': 're...</td>\n",
              "      <td>&lt;a href=\"http://twitter.com/download/android\" ...</td>\n",
              "      <td>NaN</td>\n",
              "      <td>NaN</td>\n",
              "      <td>NaN</td>\n",
              "      <td>NaN</td>\n",
              "      <td>None</td>\n",
              "      <td>{'id': 1036309419129073664, 'id_str': '1036309...</td>\n",
              "      <td>None</td>\n",
              "      <td>None</td>\n",
              "      <td>None</td>\n",
              "      <td>NaN</td>\n",
              "      <td>False</td>\n",
              "      <td>0</td>\n",
              "      <td>0</td>\n",
              "      <td>False</td>\n",
              "      <td>False</td>\n",
              "      <td>in</td>\n",
              "      <td>NaN</td>\n",
              "      <td>NaN</td>\n",
              "      <td>NaN</td>\n",
              "      <td>NaN</td>\n",
              "      <td>NaN</td>\n",
              "      <td>NaN</td>\n",
              "    </tr>\n",
              "    <tr>\n",
              "      <th>4</th>\n",
              "      <td>2021-10-15 13:34:13+00:00</td>\n",
              "      <td>1449005693717995524</td>\n",
              "      <td>1449005693717995520</td>\n",
              "      <td>weh bedebo siot tgk badminton ni</td>\n",
              "      <td>False</td>\n",
              "      <td>[0, 32]</td>\n",
              "      <td>{'hashtags': [], 'symbols': [], 'user_mentions...</td>\n",
              "      <td>{'iso_language_code': 'in', 'result_type': 're...</td>\n",
              "      <td>&lt;a href=\"http://twitter.com/download/android\" ...</td>\n",
              "      <td>NaN</td>\n",
              "      <td>NaN</td>\n",
              "      <td>NaN</td>\n",
              "      <td>NaN</td>\n",
              "      <td>None</td>\n",
              "      <td>{'id': 1288570706, 'id_str': '1288570706', 'na...</td>\n",
              "      <td>None</td>\n",
              "      <td>None</td>\n",
              "      <td>None</td>\n",
              "      <td>NaN</td>\n",
              "      <td>False</td>\n",
              "      <td>0</td>\n",
              "      <td>0</td>\n",
              "      <td>False</td>\n",
              "      <td>False</td>\n",
              "      <td>in</td>\n",
              "      <td>NaN</td>\n",
              "      <td>NaN</td>\n",
              "      <td>NaN</td>\n",
              "      <td>NaN</td>\n",
              "      <td>NaN</td>\n",
              "      <td>NaN</td>\n",
              "    </tr>\n",
              "  </tbody>\n",
              "</table>\n",
              "</div>"
            ],
            "text/plain": [
              "                 created_at  ...  quoted_status\n",
              "0 2021-10-15 13:34:24+00:00  ...            NaN\n",
              "1 2021-10-15 13:34:22+00:00  ...            NaN\n",
              "2 2021-10-15 13:34:21+00:00  ...            NaN\n",
              "3 2021-10-15 13:34:13+00:00  ...            NaN\n",
              "4 2021-10-15 13:34:13+00:00  ...            NaN\n",
              "\n",
              "[5 rows x 31 columns]"
            ]
          },
          "metadata": {},
          "execution_count": 24
        }
      ]
    },
    {
      "cell_type": "code",
      "metadata": {
        "id": "5avTXNYb6CN2"
      },
      "source": [
        "#ubah nama kolom full_text menjadi text\n",
        "dataFinal.rename(columns={'full_text':'text'}, inplace=True)"
      ],
      "execution_count": null,
      "outputs": []
    },
    {
      "cell_type": "markdown",
      "metadata": {
        "id": "FIYNaFGRxmEx"
      },
      "source": [
        "**Cleaning text**"
      ]
    },
    {
      "cell_type": "code",
      "metadata": {
        "id": "Ag-IB2MjNMjo"
      },
      "source": [
        "def crawlFiles(dPath, types = None):\n",
        "    #dPath = 'C:/Temp', types ='pdf'\n",
        "    if types:\n",
        "        return [dPath+'/'+f for f in os.listdir(dPath) if f.endswith('.'+types)]\n",
        "    else:\n",
        "        return [dPath+'/'+f for f in os.listdir(dPath)]"
      ],
      "execution_count": null,
      "outputs": []
    },
    {
      "cell_type": "code",
      "metadata": {
        "id": "_UOwQMsmNdgq"
      },
      "source": [
        "def readBz2(file):\n",
        "    with bz2(file, \"r\") as bzData:\n",
        "        txt = []\n",
        "        for line in bzData:\n",
        "            try:\n",
        "                txt.append(line.strip().decode('utf-8','replace'))\n",
        "            except:\n",
        "                pass\n",
        "    return ' '.join(txt)"
      ],
      "execution_count": null,
      "outputs": []
    },
    {
      "cell_type": "code",
      "metadata": {
        "id": "5ywsWHW3N2XO"
      },
      "source": [
        "def LoadDocuments(dPath=None,types=None, file = None): # types = ['pdf','doc','docx','txt','bz2']\n",
        "    Files, Docs = [], []\n",
        "    if types:\n",
        "        for tipe in types:\n",
        "            Files += crawlFiles(dPath,tipe)\n",
        "    if file:\n",
        "        Files = [file]\n",
        "    if not types and not file: # get all files regardless of their extensions\n",
        "        Files += crawlFiles(dPath)\n",
        "    for f in Files:\n",
        "#        if f[-3:].lower()=='pdf':\n",
        "#            try:\n",
        "#                Docs.append(PDF(f).string)\n",
        "#            except:\n",
        "#                print('error reading{0}'.format(f))\n",
        "        if f[-3:].lower()=='txt':\n",
        "            try:\n",
        "                df=open(f,\"r\",encoding=\"utf-8\", errors='replace')\n",
        "                Docs.append(df.readlines());df.close()\n",
        "            except:\n",
        "                print('error reading{0}'.format(f))\n",
        "        elif f[-3:].lower()=='bz2':\n",
        "            try:\n",
        "                Docs.append(readBz2(f))\n",
        "            except:\n",
        "                print('error reading{0}'.format(f))\n",
        "        elif f[-4:].lower()=='docx':\n",
        "            try:\n",
        "                Docs.append(docx2txt.process(f))\n",
        "            except:\n",
        "                print('error reading{0}'.format(f))\n",
        "        elif f[-3:].lower()=='csv':\n",
        "            Docs.append(pd.read_csv(f))\n",
        "        else:\n",
        "            print('Unsupported format {0}'.format(f))\n",
        "    if file:\n",
        "        Docs = Docs\n",
        "    return Docs, Files"
      ],
      "execution_count": null,
      "outputs": []
    },
    {
      "cell_type": "code",
      "metadata": {
        "id": "3O7bY4AcN0N4"
      },
      "source": [
        "def LoadStopWords(lang, sentiment = True):\n",
        "    L = lang.lower().strip().split(':')\n",
        "    if sentiment:\n",
        "        if L == 'en' or L == 'english' or L == 'inggris':\n",
        "            lemmatizer = WordNetLemmatizer()\n",
        "            stops = set([t.strip().split(':') for t in LoadDocuments(file = '/content/Twitter-data-processing/text processing/stopword/20190327_stopword_id.txt')[0]])\n",
        "        elif L == 'in' or L == 'indonesia' or L == 'indonesian':\n",
        "            lemmatizer = Indonesian()\n",
        "            stops = set([t.strip().split(':') for t in LoadDocuments(file = '/content/Twitter-data-processing/text processing/stopword_noise/20190327_stopword_noise.txt')[0]])\n",
        "        else:\n",
        "            print('Warning! Languange not recognized. Empty stopword given')\n",
        "            stops = set(); lemmatizer = None\n",
        "    else:\n",
        "        if L == 'en' or L == 'english' or L == 'inggris':\n",
        "            lemmatizer = WordNetLemmatizer()\n",
        "            stops = set([t.strip().split(':') for t in LoadDocuments(file = '/content/Twitter-data-processing/text processing/stopword_en/20190327_stopwords_en.txt')[0]])\n",
        "        elif L == 'in' or L == 'indonesia' or L == 'indonesian':\n",
        "            lemmatizer = Indonesian()\n",
        "            stops = set([t.strip().split(':') for t in LoadDocuments(file = '/content/Twitter-data-processing/text processing/stopword/20190327_stopword_id.txt')[0]])\n",
        "        else:\n",
        "            print('Warning! Languange not recognized. Empty stopword given')\n",
        "            stops = set(); lemmatizer = None\n",
        "    return stops, lemmatizer"
      ],
      "execution_count": null,
      "outputs": []
    },
    {
      "cell_type": "code",
      "metadata": {
        "id": "edA_BFwmNxWP"
      },
      "source": [
        "def fixTags(T):\n",
        "    getHashtags = re.compile(r\"#(\\w+)\")\n",
        "    pisahtags = re.compile(r'[A-Z][^A-Z]*')\n",
        "    t = T\n",
        "    tagS = re.findall(getHashtags, T)\n",
        "    for tag in tagS:\n",
        "        proper_words = ' '.join(re.findall(pisahtags, tagS[0]))\n",
        "        t = t.replace('#'+tag, proper_words)\n",
        "    return t"
      ],
      "execution_count": null,
      "outputs": []
    },
    {
      "cell_type": "code",
      "metadata": {
        "id": "svjVM9CpNujw"
      },
      "source": [
        "def getTags(T):\n",
        "    getHashtags = re.compile(r\"#(\\w+)\")\n",
        "    tagS = re.findall(getHashtags, T)\n",
        "    isitag = []\n",
        "    for tag in tagS:\n",
        "        tag = '#'+tag\n",
        "        isitag.append(tag)\n",
        "\n",
        "    return ', '.join(isitag)"
      ],
      "execution_count": null,
      "outputs": []
    },
    {
      "cell_type": "code",
      "metadata": {
        "id": "0UqpwcV_NsZp"
      },
      "source": [
        "def cleanText(T, fix={}, pattern2 = False, lang = 'id', lemma=None, stops = set(), symbols_remove = False, numbers_remove = False, hashtag_remove = False, min_charLen = 0):\n",
        "    # lang & stopS only 2 options : 'en' atau 'id'\n",
        "    # symbols ASCII atau alnum\n",
        "    pattern = re.compile(r'http[s]?://(?:[a-zA-Z]|[0-9]|[$-_@.&+]|[!*\\(\\),]|(?:%[0-9a-fA-F][0-9a-fA-F]))+')\n",
        "    pattern1 = re.compile(r'pic.twitter.com/(?:[a-zA-Z]|[0-9]|[$-_@.&+]|[!*\\(\\),]|(?:%[0-9a-fA-F][0-9a-fA-F]))+')\n",
        "    if pattern2:\n",
        "        pattern2 = re.compile(r'@(?:[a-zA-Z]|[0-9]|[$-_@.&+]|[!*\\(\\),]|(?:%[0-9a-fA-F][0-9a-fA-F]))+') #remove@\n",
        "        t = re.sub(pattern2, ' ',T)\n",
        "    else:\n",
        "        t = T\n",
        "    t = re.sub(pattern,' ',t) #remove urls if any\n",
        "    t = re.sub(pattern1,' ',t)\n",
        "    t = unescape(t) # html entities fix\n",
        "    if hashtag_remove:\n",
        "        t = fixTags(t) # fix abcDef\n",
        "    else:\n",
        "        t = t\n",
        "    t = t.lower().strip() # lowercase\n",
        "    t = unidecode(t)\n",
        "    t = ''.join(''.join(s)[:2] for _, s in itertools.groupby(t)) # remove repetition\n",
        "    t = sent_tokenize(t) # sentence segmentation. String to list\n",
        "    for i, K in enumerate(t):\n",
        "        if symbols_remove:\n",
        "            K = re.sub(r'[^.,a-zA-Z0-9 \\n\\.]',' ',K)\n",
        "            K = K.replace(',',' ').replace('.',' ')\n",
        "            K = ''.join(c for c in K if c not in punctuation)\n",
        "            K = re.sub('\\s+',' ',K).strip()\n",
        "\n",
        "        if numbers_remove:\n",
        "            K = re.sub(r'[0-9]',' ',K)\n",
        "            K = re.sub('\\s+',' ',K)\n",
        "\n",
        "        cleanList = []\n",
        "        if lang =='en':\n",
        "            listKata = word_tokenize(K) # word tokenize\n",
        "            for token in listKata:\n",
        "                if token in fix.keys():\n",
        "                    token = fix[token]\n",
        "                if lemma:\n",
        "                    token = lemma.lemmatize(token)\n",
        "                if stops:\n",
        "                    if len(token)>=min_charLen and token not in stops:\n",
        "                        cleanList.append(token)\n",
        "                else:\n",
        "                    if len(token)>=min_charLen:\n",
        "                        cleanList.append(token)\n",
        "            t[i] = ' '.join(cleanList)\n",
        "        else:\n",
        "            if lemma:\n",
        "                K = lemma(K)\n",
        "                listKata = [token.text for token in K]\n",
        "            else:\n",
        "                listKata = TextBlob(K).words\n",
        "\n",
        "            for token in listKata:\n",
        "                if token in fix.keys():\n",
        "                    token = fix[token]\n",
        "\n",
        "                if lemma:\n",
        "                    token = lemma(token)[0].lemma_\n",
        "                    #token = stemmer.stem(token)\n",
        "                if stops:\n",
        "                    if len(token)>=min_charLen and token not in stops:\n",
        "                        cleanList.append(token)\n",
        "                else:\n",
        "                    if len(token)>=min_charLen:\n",
        "                        cleanList.append(token)\n",
        "            t[i] = ' '.join(cleanList).lstrip()\n",
        "    return ' '.join(t) # Return kalimat lagi"
      ],
      "execution_count": null,
      "outputs": []
    },
    {
      "cell_type": "code",
      "metadata": {
        "id": "66W6YcvmNnqe"
      },
      "source": [
        "def cleanText_(T, fix={}, min_charLen = 0):\n",
        "    t = T\n",
        "    t = t.lower().strip() # lowercase\n",
        "    t = unidecode(t)\n",
        "    t = ''.join(''.join(s)[:2] for _, s in itertools.groupby(t)) # remove repetition\n",
        "    t = sent_tokenize(t) # sentence segmentation. String to list\n",
        "    for i, K in enumerate(t):\n",
        "        cleanList = []\n",
        "        listKata = TextBlob(K).words\n",
        "        for token in listKata:\n",
        "            if token in fix.keys():\n",
        "                token = fix[token]\n",
        "                cleanList.append(token)\n",
        "            else:\n",
        "                if len(token)>=min_charLen:\n",
        "                    cleanList.append(token)\n",
        "        t[i] = ' '.join(cleanList).lstrip()\n",
        "    return ' '.join(t) # Return kalimat lagi"
      ],
      "execution_count": null,
      "outputs": []
    },
    {
      "cell_type": "code",
      "metadata": {
        "id": "e3bhB-8DNlbZ"
      },
      "source": [
        "def handlingnegation (text):\n",
        "    match = re.compile(r'(tidak|kurang|bukan|jangan|tapi|tetapi) (\\w+)').findall(text)\n",
        "    match = list(set(match))\n",
        "    for i,word in enumerate(match):\n",
        "        if ' '.join(match[i]) in text:\n",
        "            kata = text.replace(' '.join(match[i]), str(match[i][0])+' '+'negx'+str(match[i][1]))\n",
        "            text = kata\n",
        "    return text"
      ],
      "execution_count": null,
      "outputs": []
    },
    {
      "cell_type": "code",
      "metadata": {
        "id": "wZMKZj4cNhYe"
      },
      "source": [
        "def print_Topics(model, feature_names, Top_Topics, n_top_words):\n",
        "    for topic_idx, topic in enumerate(model.components_[:Top_Topics]):\n",
        "        print(\"Topic #%d:\" %(topic_idx+1))\n",
        "        print(\" \".join([feature_names[i]\n",
        "                        for i in topic.argsort()[:-n_top_words - 1:-1]]))"
      ],
      "execution_count": null,
      "outputs": []
    },
    {
      "cell_type": "code",
      "metadata": {
        "id": "xgR9gkRVNfpY"
      },
      "source": [
        "def getTopics(Txt,n_topics=5, Top_Words=7):\n",
        "    #Txt = [t['nlp'] for t in Tweets] # cleaned: stopwords, stemming\n",
        "    tf_vectorizer = CountVectorizer(strip_accents = 'unicode', token_pattern = r'\\b[a-zA-Z]{3,}\\b', max_df = 0.95, min_df = 2)\n",
        "    dtm_tf = tf_vectorizer.fit_transform(Txt)\n",
        "    tf_terms = tf_vectorizer.get_feature_names()\n",
        "    lda_tf = LDA(n_components=n_topics, learning_method='online', random_state=0).fit(dtm_tf)\n",
        "    vsm_topics = lda_tf.transform(dtm_tf); doc_topic =  [a.argmax()+1 for a in tqdm(vsm_topics)] # topic of docs\n",
        "    print('In total there are {0} major topics, distributed as follows'.format(len(set(doc_topic))))\n",
        "    fig4 = plt.figure(); fig4.add_subplot(111)\n",
        "    plt.hist(np.array(doc_topic), alpha=0.5); plt.show()\n",
        "    print('Printing top {0} Topics, with top {1} Words:'.format(n_topics, Top_Words))\n",
        "    print_Topics(lda_tf, tf_terms, n_topics, Top_Words)\n",
        "    return lda_tf, dtm_tf, tf_vectorizer"
      ],
      "execution_count": null,
      "outputs": []
    },
    {
      "cell_type": "code",
      "metadata": {
        "id": "O_zIkwd0PTeV"
      },
      "source": [
        "def cleanningtext(data, both = True, onlyclean = False, sentiment = False):\n",
        "    print('Cleaning Text')\n",
        "    fSlang = '/content/Twitter-data-processing/text processing/slangword/20210315_slangword.txt'\n",
        "    bahasa = 'id'\n",
        "    stops, lemmatizer = LoadStopWords(bahasa, sentiment = False)\n",
        "    sw=open(fSlang,encoding='utf-8', errors ='ignore', mode='r');SlangS=sw.readlines();sw.close()\n",
        "    SlangS = {slang.strip().split(':')[0]:slang.strip().split(':')[1] for slang in SlangS}\n",
        "\n",
        "    start_time = time.time()\n",
        "    tqdm.pandas()\n",
        "\n",
        "    if both:\n",
        "        data['text'] = data['text'].astype('str')\n",
        "        data['text'] = data['text'].str.lower()\n",
        "        data = data[~data.text.str.contains('unavailable')]\n",
        "        data['cleaned_text'] = data['text'].progress_apply(lambda x : cleanText(x,fix=SlangS, pattern2 = True, lang = bahasa, lemma=lemmatizer, stops = stops, symbols_remove = True, numbers_remove = True, hashtag_remove=False, min_charLen = 2))\n",
        "        data['cleaned_text'] = data['cleaned_text'].progress_apply(lambda x : handlingnegation(x))\n",
        "        #data['cleaned_text'] = data['cleaned_text'].progress_apply(lambda x : tm.handlingporn(x))\n",
        "    elif onlyclean:\n",
        "        data['cleaned_text'] = data['text'].progress_apply(lambda x : cleanText(x, fix=SlangS, pattern2 = True, lang = bahasa, lemma=lemmatizer, stops = stops, symbols_remove = True, numbers_remove = True, hashtag_remove=False, min_charLen = 3))\n",
        "    else:\n",
        "        data['cleaned_text'] = data['text'].progress_apply(lambda x : handlingnegation(x))\n",
        "\n",
        "    data = data[data['cleaned_text'].notna()]\n",
        "    print(\"%s seconds\" %(time.time()-start_time))\n",
        "\n",
        "    return data"
      ],
      "execution_count": null,
      "outputs": []
    },
    {
      "cell_type": "code",
      "metadata": {
        "id": "usbH67OoPmgR",
        "colab": {
          "base_uri": "https://localhost:8080/"
        },
        "outputId": "65bbe84f-5d12-4b04-8fad-1a1b462fef7d"
      },
      "source": [
        "dataFinal = cleanningtext(data = dataFinal, both = True, onlyclean = False, sentiment = False)"
      ],
      "execution_count": null,
      "outputs": [
        {
          "output_type": "stream",
          "name": "stdout",
          "text": [
            "Cleaning Text\n",
            "Warning! Languange not recognized. Empty stopword given\n"
          ]
        },
        {
          "output_type": "stream",
          "name": "stderr",
          "text": [
            "100%|██████████| 41296/41296 [00:20<00:00, 2051.19it/s]\n",
            "100%|██████████| 41296/41296 [00:00<00:00, 217537.57it/s]\n"
          ]
        },
        {
          "output_type": "stream",
          "name": "stdout",
          "text": [
            "20.619443655014038 seconds\n"
          ]
        }
      ]
    },
    {
      "cell_type": "code",
      "metadata": {
        "id": "Pj_xkIyZxOGW"
      },
      "source": [
        "Result = dataFinal[['cleaned_text']]"
      ],
      "execution_count": null,
      "outputs": []
    },
    {
      "cell_type": "code",
      "metadata": {
        "id": "RySW6S_x0k-L",
        "colab": {
          "base_uri": "https://localhost:8080/",
          "height": 204
        },
        "outputId": "864740c0-24ca-4e98-cc0a-f94c305bd87a"
      },
      "source": [
        "Result.tail()"
      ],
      "execution_count": null,
      "outputs": [
        {
          "output_type": "execute_result",
          "data": {
            "text/html": [
              "<div>\n",
              "<style scoped>\n",
              "    .dataframe tbody tr th:only-of-type {\n",
              "        vertical-align: middle;\n",
              "    }\n",
              "\n",
              "    .dataframe tbody tr th {\n",
              "        vertical-align: top;\n",
              "    }\n",
              "\n",
              "    .dataframe thead th {\n",
              "        text-align: right;\n",
              "    }\n",
              "</style>\n",
              "<table border=\"1\" class=\"dataframe\">\n",
              "  <thead>\n",
              "    <tr style=\"text-align: right;\">\n",
              "      <th></th>\n",
              "      <th>cleaned_text</th>\n",
              "    </tr>\n",
              "  </thead>\n",
              "  <tbody>\n",
              "    <tr>\n",
              "      <th>41291</th>\n",
              "      <td>retweet masa itu saya hanya akan fikirkan maca...</td>\n",
              "    </tr>\n",
              "    <tr>\n",
              "      <th>41292</th>\n",
              "      <td>masa itu saya hanya akan fikirkan macam mana a...</td>\n",
              "    </tr>\n",
              "    <tr>\n",
              "      <th>41293</th>\n",
              "      <td>ko hend dan ka gey panutan memang semangat tim...</td>\n",
              "    </tr>\n",
              "    <tr>\n",
              "      <th>41294</th>\n",
              "      <td>menjelang akhir tahun bakalan banyak sangat di...</td>\n",
              "    </tr>\n",
              "    <tr>\n",
              "      <th>41295</th>\n",
              "      <td>yang mau nonton tuc di vidio pakai kode ref hz...</td>\n",
              "    </tr>\n",
              "  </tbody>\n",
              "</table>\n",
              "</div>"
            ],
            "text/plain": [
              "                                            cleaned_text\n",
              "41291  retweet masa itu saya hanya akan fikirkan maca...\n",
              "41292  masa itu saya hanya akan fikirkan macam mana a...\n",
              "41293  ko hend dan ka gey panutan memang semangat tim...\n",
              "41294  menjelang akhir tahun bakalan banyak sangat di...\n",
              "41295  yang mau nonton tuc di vidio pakai kode ref hz..."
            ]
          },
          "metadata": {},
          "execution_count": 40
        }
      ]
    },
    {
      "cell_type": "code",
      "metadata": {
        "id": "ttUtNkZH7B_1"
      },
      "source": [
        "Result = dataFinal[['cleaned_text']]\n",
        "#Result.to_csv('/content/drive/MyDrive/NLP/resulttext.txt', index=False)"
      ],
      "execution_count": null,
      "outputs": []
    },
    {
      "cell_type": "markdown",
      "metadata": {
        "id": "_hLIT7CSjeDS"
      },
      "source": [
        "## Analisis Dasar"
      ]
    },
    {
      "cell_type": "markdown",
      "metadata": {
        "id": "Zg8zbTFW9oDo"
      },
      "source": [
        "### Likes Terbanyak"
      ]
    },
    {
      "cell_type": "code",
      "metadata": {
        "id": "J1ZHxUg05WeV",
        "colab": {
          "base_uri": "https://localhost:8080/",
          "height": 383
        },
        "outputId": "73b70a37-101f-4690-968e-3feaa64b761a"
      },
      "source": [
        "dataFinal.nlargest(3, 'favorite_count')"
      ],
      "execution_count": null,
      "outputs": [
        {
          "output_type": "execute_result",
          "data": {
            "text/html": [
              "<div>\n",
              "<style scoped>\n",
              "    .dataframe tbody tr th:only-of-type {\n",
              "        vertical-align: middle;\n",
              "    }\n",
              "\n",
              "    .dataframe tbody tr th {\n",
              "        vertical-align: top;\n",
              "    }\n",
              "\n",
              "    .dataframe thead th {\n",
              "        text-align: right;\n",
              "    }\n",
              "</style>\n",
              "<table border=\"1\" class=\"dataframe\">\n",
              "  <thead>\n",
              "    <tr style=\"text-align: right;\">\n",
              "      <th></th>\n",
              "      <th>created_at</th>\n",
              "      <th>id</th>\n",
              "      <th>id_str</th>\n",
              "      <th>text</th>\n",
              "      <th>truncated</th>\n",
              "      <th>display_text_range</th>\n",
              "      <th>entities</th>\n",
              "      <th>metadata</th>\n",
              "      <th>source</th>\n",
              "      <th>in_reply_to_status_id</th>\n",
              "      <th>in_reply_to_status_id_str</th>\n",
              "      <th>in_reply_to_user_id</th>\n",
              "      <th>in_reply_to_user_id_str</th>\n",
              "      <th>in_reply_to_screen_name</th>\n",
              "      <th>user</th>\n",
              "      <th>geo</th>\n",
              "      <th>coordinates</th>\n",
              "      <th>place</th>\n",
              "      <th>contributors</th>\n",
              "      <th>is_quote_status</th>\n",
              "      <th>retweet_count</th>\n",
              "      <th>favorite_count</th>\n",
              "      <th>favorited</th>\n",
              "      <th>retweeted</th>\n",
              "      <th>lang</th>\n",
              "      <th>retweeted_status</th>\n",
              "      <th>extended_entities</th>\n",
              "      <th>possibly_sensitive</th>\n",
              "      <th>quoted_status_id</th>\n",
              "      <th>quoted_status_id_str</th>\n",
              "      <th>quoted_status</th>\n",
              "      <th>cleaned_text</th>\n",
              "    </tr>\n",
              "  </thead>\n",
              "  <tbody>\n",
              "    <tr>\n",
              "      <th>36266</th>\n",
              "      <td>2021-10-13 07:08:26+00:00</td>\n",
              "      <td>1448183833220685826</td>\n",
              "      <td>1448183833220685824</td>\n",
              "      <td>orang gila leading 11-7 kesalip jadi 14-11 ter...</td>\n",
              "      <td>False</td>\n",
              "      <td>[0, 141]</td>\n",
              "      <td>{'hashtags': [], 'symbols': [], 'user_mentions...</td>\n",
              "      <td>{'iso_language_code': 'in', 'result_type': 're...</td>\n",
              "      <td>&lt;a href=\"http://twitter.com/download/android\" ...</td>\n",
              "      <td>NaN</td>\n",
              "      <td>NaN</td>\n",
              "      <td>NaN</td>\n",
              "      <td>NaN</td>\n",
              "      <td>None</td>\n",
              "      <td>{'id': 1119386089058213888, 'id_str': '1119386...</td>\n",
              "      <td>NaN</td>\n",
              "      <td>NaN</td>\n",
              "      <td>None</td>\n",
              "      <td>NaN</td>\n",
              "      <td>False</td>\n",
              "      <td>1557</td>\n",
              "      <td>6525</td>\n",
              "      <td>False</td>\n",
              "      <td>False</td>\n",
              "      <td>in</td>\n",
              "      <td>NaN</td>\n",
              "      <td>NaN</td>\n",
              "      <td>NaN</td>\n",
              "      <td>NaN</td>\n",
              "      <td>NaN</td>\n",
              "      <td>NaN</td>\n",
              "      <td>orang gila leading kesalip jadi terus ketingga...</td>\n",
              "    </tr>\n",
              "    <tr>\n",
              "      <th>33965</th>\n",
              "      <td>2021-10-15 12:29:27+00:00</td>\n",
              "      <td>1448989396955320327</td>\n",
              "      <td>1448989396955320320</td>\n",
              "      <td>quarter finals\\nina 1-0 mas\\n\\nms1: anthony si...</td>\n",
              "      <td>False</td>\n",
              "      <td>[0, 186]</td>\n",
              "      <td>{'hashtags': [{'text': 'ThomasCup2020', 'indic...</td>\n",
              "      <td>{'iso_language_code': 'in', 'result_type': 're...</td>\n",
              "      <td>&lt;a href=\"https://mobile.twitter.com\" rel=\"nofo...</td>\n",
              "      <td>NaN</td>\n",
              "      <td>NaN</td>\n",
              "      <td>NaN</td>\n",
              "      <td>NaN</td>\n",
              "      <td>None</td>\n",
              "      <td>{'id': 2941773157, 'id_str': '2941773157', 'na...</td>\n",
              "      <td>NaN</td>\n",
              "      <td>NaN</td>\n",
              "      <td>None</td>\n",
              "      <td>NaN</td>\n",
              "      <td>False</td>\n",
              "      <td>2934</td>\n",
              "      <td>6325</td>\n",
              "      <td>False</td>\n",
              "      <td>False</td>\n",
              "      <td>in</td>\n",
              "      <td>NaN</td>\n",
              "      <td>NaN</td>\n",
              "      <td>0.0</td>\n",
              "      <td>NaN</td>\n",
              "      <td>NaN</td>\n",
              "      <td>NaN</td>\n",
              "      <td>quarter finals ina mas ms anthony sinisuka gin...</td>\n",
              "    </tr>\n",
              "    <tr>\n",
              "      <th>33134</th>\n",
              "      <td>2021-10-15 12:30:59+00:00</td>\n",
              "      <td>1448989781594042369</td>\n",
              "      <td>1448989781594042368</td>\n",
              "      <td>anthony sinisuka ginting 16-17 to 21-17 🔥🔥🔥🔥🔥🔥...</td>\n",
              "      <td>False</td>\n",
              "      <td>[0, 87]</td>\n",
              "      <td>{'hashtags': [{'text': 'ThomasCup2020', 'indic...</td>\n",
              "      <td>{'iso_language_code': 'in', 'result_type': 're...</td>\n",
              "      <td>&lt;a href=\"http://twitter.com/download/android\" ...</td>\n",
              "      <td>NaN</td>\n",
              "      <td>NaN</td>\n",
              "      <td>NaN</td>\n",
              "      <td>NaN</td>\n",
              "      <td>None</td>\n",
              "      <td>{'id': 2941773157, 'id_str': '2941773157', 'na...</td>\n",
              "      <td>NaN</td>\n",
              "      <td>NaN</td>\n",
              "      <td>None</td>\n",
              "      <td>NaN</td>\n",
              "      <td>False</td>\n",
              "      <td>2179</td>\n",
              "      <td>6317</td>\n",
              "      <td>False</td>\n",
              "      <td>False</td>\n",
              "      <td>in</td>\n",
              "      <td>NaN</td>\n",
              "      <td>NaN</td>\n",
              "      <td>NaN</td>\n",
              "      <td>NaN</td>\n",
              "      <td>NaN</td>\n",
              "      <td>NaN</td>\n",
              "      <td>anthony sinisuka ginting to indonesia malaysia...</td>\n",
              "    </tr>\n",
              "  </tbody>\n",
              "</table>\n",
              "</div>"
            ],
            "text/plain": [
              "                     created_at  ...                                       cleaned_text\n",
              "36266 2021-10-13 07:08:26+00:00  ...  orang gila leading kesalip jadi terus ketingga...\n",
              "33965 2021-10-15 12:29:27+00:00  ...  quarter finals ina mas ms anthony sinisuka gin...\n",
              "33134 2021-10-15 12:30:59+00:00  ...  anthony sinisuka ginting to indonesia malaysia...\n",
              "\n",
              "[3 rows x 32 columns]"
            ]
          },
          "metadata": {},
          "execution_count": 42
        }
      ]
    },
    {
      "cell_type": "code",
      "metadata": {
        "id": "GzbULOYyeN9V",
        "colab": {
          "base_uri": "https://localhost:8080/",
          "height": 35
        },
        "outputId": "2a146b16-35e0-4e61-8a3d-4d69d4b5b049"
      },
      "source": [
        "dataFinal['text'][36266]"
      ],
      "execution_count": null,
      "outputs": [
        {
          "output_type": "execute_result",
          "data": {
            "application/vnd.google.colaboratory.intrinsic+json": {
              "type": "string"
            },
            "text/plain": [
              "'orang gila leading 11-7 kesalip jadi 14-11 terus ketinggalan 20-16 dan nyusul 22-20 siapa yang gila ya betul namanya anthony sinisuka ginting'"
            ]
          },
          "metadata": {},
          "execution_count": 44
        }
      ]
    },
    {
      "cell_type": "code",
      "metadata": {
        "id": "TZ3iszyKla-s",
        "colab": {
          "base_uri": "https://localhost:8080/"
        },
        "outputId": "23878e97-a1cb-4d0d-9b95-c808faa41d69"
      },
      "source": [
        "dataFinal['user'][36266]"
      ],
      "execution_count": null,
      "outputs": [
        {
          "output_type": "execute_result",
          "data": {
            "text/plain": [
              "{'contributors_enabled': False,\n",
              " 'created_at': 'Fri Apr 19 23:43:35 +0000 2019',\n",
              " 'default_profile': True,\n",
              " 'default_profile_image': False,\n",
              " 'description': 'more of badminton, less of me',\n",
              " 'entities': {'description': {'urls': []}},\n",
              " 'favourites_count': 1479,\n",
              " 'follow_request_sent': False,\n",
              " 'followers_count': 1868,\n",
              " 'following': False,\n",
              " 'friends_count': 560,\n",
              " 'geo_enabled': False,\n",
              " 'has_extended_profile': False,\n",
              " 'id': 1119386089058213888,\n",
              " 'id_str': '1119386089058213888',\n",
              " 'is_translation_enabled': False,\n",
              " 'is_translator': False,\n",
              " 'lang': None,\n",
              " 'listed_count': 11,\n",
              " 'location': '',\n",
              " 'name': 'pins🏸',\n",
              " 'notifications': False,\n",
              " 'profile_background_color': 'F5F8FA',\n",
              " 'profile_background_image_url': None,\n",
              " 'profile_background_image_url_https': None,\n",
              " 'profile_background_tile': False,\n",
              " 'profile_banner_url': 'https://pbs.twimg.com/profile_banners/1119386089058213888/1577619719',\n",
              " 'profile_image_url': 'http://pbs.twimg.com/profile_images/1447711978269528065/pCOLA1Dy_normal.jpg',\n",
              " 'profile_image_url_https': 'https://pbs.twimg.com/profile_images/1447711978269528065/pCOLA1Dy_normal.jpg',\n",
              " 'profile_link_color': '1DA1F2',\n",
              " 'profile_sidebar_border_color': 'C0DEED',\n",
              " 'profile_sidebar_fill_color': 'DDEEF6',\n",
              " 'profile_text_color': '333333',\n",
              " 'profile_use_background_image': True,\n",
              " 'protected': False,\n",
              " 'screen_name': 'bbugirl',\n",
              " 'statuses_count': 7090,\n",
              " 'time_zone': None,\n",
              " 'translator_type': 'none',\n",
              " 'url': None,\n",
              " 'utc_offset': None,\n",
              " 'verified': False,\n",
              " 'withheld_in_countries': []}"
            ]
          },
          "metadata": {},
          "execution_count": 45
        }
      ]
    },
    {
      "cell_type": "markdown",
      "metadata": {
        "id": "EZ_0nBUF9tDl"
      },
      "source": [
        "### Retweet Terbanyak"
      ]
    },
    {
      "cell_type": "code",
      "metadata": {
        "id": "AC_zCWgt7BBj",
        "colab": {
          "base_uri": "https://localhost:8080/",
          "height": 332
        },
        "outputId": "72ef714d-6631-4653-f443-9136f5c2bb7c"
      },
      "source": [
        "dataFinal.nlargest(3, 'retweet_count')"
      ],
      "execution_count": null,
      "outputs": [
        {
          "output_type": "execute_result",
          "data": {
            "text/html": [
              "<div>\n",
              "<style scoped>\n",
              "    .dataframe tbody tr th:only-of-type {\n",
              "        vertical-align: middle;\n",
              "    }\n",
              "\n",
              "    .dataframe tbody tr th {\n",
              "        vertical-align: top;\n",
              "    }\n",
              "\n",
              "    .dataframe thead th {\n",
              "        text-align: right;\n",
              "    }\n",
              "</style>\n",
              "<table border=\"1\" class=\"dataframe\">\n",
              "  <thead>\n",
              "    <tr style=\"text-align: right;\">\n",
              "      <th></th>\n",
              "      <th>created_at</th>\n",
              "      <th>id</th>\n",
              "      <th>id_str</th>\n",
              "      <th>text</th>\n",
              "      <th>truncated</th>\n",
              "      <th>display_text_range</th>\n",
              "      <th>entities</th>\n",
              "      <th>metadata</th>\n",
              "      <th>source</th>\n",
              "      <th>in_reply_to_status_id</th>\n",
              "      <th>in_reply_to_status_id_str</th>\n",
              "      <th>in_reply_to_user_id</th>\n",
              "      <th>in_reply_to_user_id_str</th>\n",
              "      <th>in_reply_to_screen_name</th>\n",
              "      <th>user</th>\n",
              "      <th>geo</th>\n",
              "      <th>coordinates</th>\n",
              "      <th>place</th>\n",
              "      <th>contributors</th>\n",
              "      <th>is_quote_status</th>\n",
              "      <th>retweet_count</th>\n",
              "      <th>favorite_count</th>\n",
              "      <th>favorited</th>\n",
              "      <th>retweeted</th>\n",
              "      <th>lang</th>\n",
              "      <th>retweeted_status</th>\n",
              "      <th>extended_entities</th>\n",
              "      <th>possibly_sensitive</th>\n",
              "      <th>quoted_status_id</th>\n",
              "      <th>quoted_status_id_str</th>\n",
              "      <th>quoted_status</th>\n",
              "      <th>cleaned_text</th>\n",
              "    </tr>\n",
              "  </thead>\n",
              "  <tbody>\n",
              "    <tr>\n",
              "      <th>5115</th>\n",
              "      <td>2021-10-14 18:00:48+00:00</td>\n",
              "      <td>1448710393803657217</td>\n",
              "      <td>1448710393803657216</td>\n",
              "      <td>rt @badmintontalk: #badminton women's doubles\\...</td>\n",
              "      <td>False</td>\n",
              "      <td>[0, 140]</td>\n",
              "      <td>{'hashtags': [{'text': 'Badminton', 'indices':...</td>\n",
              "      <td>{'iso_language_code': 'in', 'result_type': 're...</td>\n",
              "      <td>&lt;a href=\"http://twitter.com/download/android\" ...</td>\n",
              "      <td>NaN</td>\n",
              "      <td>NaN</td>\n",
              "      <td>NaN</td>\n",
              "      <td>NaN</td>\n",
              "      <td>None</td>\n",
              "      <td>{'id': 301277063, 'id_str': '301277063', 'name...</td>\n",
              "      <td>None</td>\n",
              "      <td>None</td>\n",
              "      <td>None</td>\n",
              "      <td>NaN</td>\n",
              "      <td>False</td>\n",
              "      <td>11453</td>\n",
              "      <td>0</td>\n",
              "      <td>False</td>\n",
              "      <td>False</td>\n",
              "      <td>in</td>\n",
              "      <td>{'created_at': 'Mon Aug 02 06:35:15 +0000 2021...</td>\n",
              "      <td>NaN</td>\n",
              "      <td>NaN</td>\n",
              "      <td>NaN</td>\n",
              "      <td>NaN</td>\n",
              "      <td>NaN</td>\n",
              "      <td>retweet badminton women doubles gold medalist ...</td>\n",
              "    </tr>\n",
              "    <tr>\n",
              "      <th>8721</th>\n",
              "      <td>2021-10-13 15:47:53+00:00</td>\n",
              "      <td>1448314558137782273</td>\n",
              "      <td>1448314558137782272</td>\n",
              "      <td>rt @badmintontalk: match round 3 - group a\\nin...</td>\n",
              "      <td>False</td>\n",
              "      <td>[0, 140]</td>\n",
              "      <td>{'hashtags': [], 'symbols': [], 'user_mentions...</td>\n",
              "      <td>{'iso_language_code': 'in', 'result_type': 're...</td>\n",
              "      <td>&lt;a href=\"http://twitter.com/download/android\" ...</td>\n",
              "      <td>NaN</td>\n",
              "      <td>NaN</td>\n",
              "      <td>NaN</td>\n",
              "      <td>NaN</td>\n",
              "      <td>None</td>\n",
              "      <td>{'id': 283497596, 'id_str': '283497596', 'name...</td>\n",
              "      <td>None</td>\n",
              "      <td>None</td>\n",
              "      <td>None</td>\n",
              "      <td>NaN</td>\n",
              "      <td>False</td>\n",
              "      <td>6943</td>\n",
              "      <td>0</td>\n",
              "      <td>False</td>\n",
              "      <td>False</td>\n",
              "      <td>in</td>\n",
              "      <td>{'created_at': 'Wed Oct 13 12:46:36 +0000 2021...</td>\n",
              "      <td>NaN</td>\n",
              "      <td>NaN</td>\n",
              "      <td>NaN</td>\n",
              "      <td>NaN</td>\n",
              "      <td>NaN</td>\n",
              "      <td>retweet match round group ina tpe ms shesar hi...</td>\n",
              "    </tr>\n",
              "    <tr>\n",
              "      <th>9483</th>\n",
              "      <td>2021-10-13 12:47:12+00:00</td>\n",
              "      <td>1448269086778015744</td>\n",
              "      <td>1448269086778015744</td>\n",
              "      <td>rt @badmintontalk: match round 3 - group a\\nin...</td>\n",
              "      <td>False</td>\n",
              "      <td>[0, 140]</td>\n",
              "      <td>{'hashtags': [], 'symbols': [], 'user_mentions...</td>\n",
              "      <td>{'iso_language_code': 'in', 'result_type': 're...</td>\n",
              "      <td>&lt;a href=\"http://twitter.com/download/android\" ...</td>\n",
              "      <td>NaN</td>\n",
              "      <td>NaN</td>\n",
              "      <td>NaN</td>\n",
              "      <td>NaN</td>\n",
              "      <td>None</td>\n",
              "      <td>{'id': 899252782439350273, 'id_str': '89925278...</td>\n",
              "      <td>None</td>\n",
              "      <td>None</td>\n",
              "      <td>None</td>\n",
              "      <td>NaN</td>\n",
              "      <td>False</td>\n",
              "      <td>6943</td>\n",
              "      <td>0</td>\n",
              "      <td>False</td>\n",
              "      <td>False</td>\n",
              "      <td>in</td>\n",
              "      <td>{'created_at': 'Wed Oct 13 12:46:36 +0000 2021...</td>\n",
              "      <td>NaN</td>\n",
              "      <td>NaN</td>\n",
              "      <td>NaN</td>\n",
              "      <td>NaN</td>\n",
              "      <td>NaN</td>\n",
              "      <td>retweet match round group ina tpe ms shesar hi...</td>\n",
              "    </tr>\n",
              "  </tbody>\n",
              "</table>\n",
              "</div>"
            ],
            "text/plain": [
              "                    created_at  ...                                       cleaned_text\n",
              "5115 2021-10-14 18:00:48+00:00  ...  retweet badminton women doubles gold medalist ...\n",
              "8721 2021-10-13 15:47:53+00:00  ...  retweet match round group ina tpe ms shesar hi...\n",
              "9483 2021-10-13 12:47:12+00:00  ...  retweet match round group ina tpe ms shesar hi...\n",
              "\n",
              "[3 rows x 32 columns]"
            ]
          },
          "metadata": {},
          "execution_count": 46
        }
      ]
    },
    {
      "cell_type": "code",
      "metadata": {
        "id": "d0OkC9S4eoFM",
        "colab": {
          "base_uri": "https://localhost:8080/",
          "height": 35
        },
        "outputId": "180f48d4-5721-4430-85b5-5f268f46cbc8"
      },
      "source": [
        "dataFinal['text'][5115]"
      ],
      "execution_count": null,
      "outputs": [
        {
          "output_type": "execute_result",
          "data": {
            "application/vnd.google.colaboratory.intrinsic+json": {
              "type": "string"
            },
            "text/plain": [
              "\"rt @badmintontalk: #badminton women's doubles\\n#gold medalist\\n\\ngreysia polii/apriyani rahayu #ina\\n\\n#tokyo2020 \\n#badmintalktokyo2020 https://…\""
            ]
          },
          "metadata": {},
          "execution_count": 47
        }
      ]
    },
    {
      "cell_type": "code",
      "metadata": {
        "id": "xdhAl1UdltK7",
        "colab": {
          "base_uri": "https://localhost:8080/"
        },
        "outputId": "e6b19722-b7ee-40f5-c2ff-f56f18232e81"
      },
      "source": [
        "dataFinal['user'][5115]"
      ],
      "execution_count": null,
      "outputs": [
        {
          "output_type": "execute_result",
          "data": {
            "text/plain": [
              "{'contributors_enabled': False,\n",
              " 'created_at': 'Thu May 19 05:59:57 +0000 2011',\n",
              " 'default_profile': True,\n",
              " 'default_profile_image': False,\n",
              " 'description': 'Pengamat Media Sosial\\nPengamat Olahraga\\nInformatika\\nFans VR46\\n#ForzaFerrari\\nhttps://t.co/9AgUqrELBv\\n💯% FB\\n#LO17 #LingkarOlahraga\\n#OtomotifNegeriku',\n",
              " 'entities': {'description': {'urls': [{'display_url': 'shadowban.eu/ArdiPegasis',\n",
              "     'expanded_url': 'https://shadowban.eu/ArdiPegasis',\n",
              "     'indices': [76, 99],\n",
              "     'url': 'https://t.co/9AgUqrELBv'}]},\n",
              "  'url': {'urls': [{'display_url': 'bit.ly/3btUWNH',\n",
              "     'expanded_url': 'http://bit.ly/3btUWNH',\n",
              "     'indices': [0, 23],\n",
              "     'url': 'https://t.co/9xVEHtKZuj'}]}},\n",
              " 'favourites_count': 354,\n",
              " 'follow_request_sent': False,\n",
              " 'followers_count': 8398,\n",
              " 'following': False,\n",
              " 'friends_count': 8731,\n",
              " 'geo_enabled': True,\n",
              " 'has_extended_profile': True,\n",
              " 'id': 301277063,\n",
              " 'id_str': '301277063',\n",
              " 'is_translation_enabled': False,\n",
              " 'is_translator': False,\n",
              " 'lang': None,\n",
              " 'listed_count': 0,\n",
              " 'location': 'Indonesia',\n",
              " 'name': 'Ardi R ♈ 🇮🇩🇮🇹',\n",
              " 'notifications': False,\n",
              " 'profile_background_color': 'C0DEED',\n",
              " 'profile_background_image_url': 'http://abs.twimg.com/images/themes/theme1/bg.png',\n",
              " 'profile_background_image_url_https': 'https://abs.twimg.com/images/themes/theme1/bg.png',\n",
              " 'profile_background_tile': False,\n",
              " 'profile_banner_url': 'https://pbs.twimg.com/profile_banners/301277063/1633439432',\n",
              " 'profile_image_url': 'http://pbs.twimg.com/profile_images/1445400749479976973/wNpuiuwV_normal.jpg',\n",
              " 'profile_image_url_https': 'https://pbs.twimg.com/profile_images/1445400749479976973/wNpuiuwV_normal.jpg',\n",
              " 'profile_link_color': '1DA1F2',\n",
              " 'profile_sidebar_border_color': 'C0DEED',\n",
              " 'profile_sidebar_fill_color': 'DDEEF6',\n",
              " 'profile_text_color': '333333',\n",
              " 'profile_use_background_image': True,\n",
              " 'protected': False,\n",
              " 'screen_name': 'ArdiPegasis',\n",
              " 'statuses_count': 5808,\n",
              " 'time_zone': None,\n",
              " 'translator_type': 'none',\n",
              " 'url': 'https://t.co/9xVEHtKZuj',\n",
              " 'utc_offset': None,\n",
              " 'verified': False,\n",
              " 'withheld_in_countries': []}"
            ]
          },
          "metadata": {},
          "execution_count": 48
        }
      ]
    },
    {
      "cell_type": "markdown",
      "metadata": {
        "id": "rJeCPX1yKRdS"
      },
      "source": [
        "### Visualisation Tweet, reply, retweet"
      ]
    },
    {
      "cell_type": "code",
      "metadata": {
        "id": "4ohDuYgXk4H9",
        "colab": {
          "base_uri": "https://localhost:8080/"
        },
        "outputId": "99881ce1-0161-430c-d5f2-adeb73fbafd8"
      },
      "source": [
        "# get list of all float type columns\n",
        "# basically all columns which are some variation of in_reply_to_x or retweeted_status/user_id\n",
        "float_cols = list(dataFinal.select_dtypes(include=['float']).columns.values)\n",
        "print(float_cols)"
      ],
      "execution_count": null,
      "outputs": [
        {
          "output_type": "stream",
          "name": "stdout",
          "text": [
            "['in_reply_to_status_id', 'in_reply_to_status_id_str', 'in_reply_to_user_id', 'in_reply_to_user_id_str', 'contributors', 'possibly_sensitive', 'quoted_status_id', 'quoted_status_id_str']\n"
          ]
        }
      ]
    },
    {
      "cell_type": "code",
      "metadata": {
        "id": "zjz5m-nlk_6L"
      },
      "source": [
        "# fill Nan's for all float types\n",
        "dataFinal[float_cols] = dataFinal[float_cols].fillna(0)\n",
        "\n",
        "# convert float_cols to int\n",
        "dataFinal[float_cols] = dataFinal[float_cols].astype(int)\n",
        "\n",
        "# convert timestamp column to datetime type\n",
        "dataFinal['created_at'] = pd.to_datetime(dataFinal['created_at'])"
      ],
      "execution_count": null,
      "outputs": []
    },
    {
      "cell_type": "code",
      "metadata": {
        "id": "eyAXa5mglPW1",
        "colab": {
          "base_uri": "https://localhost:8080/",
          "height": 513
        },
        "outputId": "ded91ae6-ef08-4a43-8bc3-b8f7fc4617c0"
      },
      "source": [
        "# check tweets which have NaN for in_reply_to_status_id but not for in_reply_to_user_id\n",
        "dataFinal[(dataFinal['in_reply_to_status_id'] == 0) & (dataFinal['in_reply_to_user_id'] != 0)].head()"
      ],
      "execution_count": null,
      "outputs": [
        {
          "output_type": "execute_result",
          "data": {
            "text/html": [
              "<div>\n",
              "<style scoped>\n",
              "    .dataframe tbody tr th:only-of-type {\n",
              "        vertical-align: middle;\n",
              "    }\n",
              "\n",
              "    .dataframe tbody tr th {\n",
              "        vertical-align: top;\n",
              "    }\n",
              "\n",
              "    .dataframe thead th {\n",
              "        text-align: right;\n",
              "    }\n",
              "</style>\n",
              "<table border=\"1\" class=\"dataframe\">\n",
              "  <thead>\n",
              "    <tr style=\"text-align: right;\">\n",
              "      <th></th>\n",
              "      <th>created_at</th>\n",
              "      <th>id</th>\n",
              "      <th>id_str</th>\n",
              "      <th>text</th>\n",
              "      <th>truncated</th>\n",
              "      <th>display_text_range</th>\n",
              "      <th>entities</th>\n",
              "      <th>metadata</th>\n",
              "      <th>source</th>\n",
              "      <th>in_reply_to_status_id</th>\n",
              "      <th>in_reply_to_status_id_str</th>\n",
              "      <th>in_reply_to_user_id</th>\n",
              "      <th>in_reply_to_user_id_str</th>\n",
              "      <th>in_reply_to_screen_name</th>\n",
              "      <th>user</th>\n",
              "      <th>geo</th>\n",
              "      <th>coordinates</th>\n",
              "      <th>place</th>\n",
              "      <th>contributors</th>\n",
              "      <th>is_quote_status</th>\n",
              "      <th>retweet_count</th>\n",
              "      <th>favorite_count</th>\n",
              "      <th>favorited</th>\n",
              "      <th>retweeted</th>\n",
              "      <th>lang</th>\n",
              "      <th>retweeted_status</th>\n",
              "      <th>extended_entities</th>\n",
              "      <th>possibly_sensitive</th>\n",
              "      <th>quoted_status_id</th>\n",
              "      <th>quoted_status_id_str</th>\n",
              "      <th>quoted_status</th>\n",
              "      <th>cleaned_text</th>\n",
              "    </tr>\n",
              "  </thead>\n",
              "  <tbody>\n",
              "    <tr>\n",
              "      <th>281</th>\n",
              "      <td>2021-10-15 13:15:26+00:00</td>\n",
              "      <td>1449000966259286022</td>\n",
              "      <td>1449000966259286016</td>\n",
              "      <td>@universe9light mesti tgh tgk badminton kan? haha</td>\n",
              "      <td>False</td>\n",
              "      <td>[0, 49]</td>\n",
              "      <td>{'hashtags': [], 'symbols': [], 'user_mentions...</td>\n",
              "      <td>{'iso_language_code': 'in', 'result_type': 're...</td>\n",
              "      <td>&lt;a href=\"http://twitter.com/download/iphone\" r...</td>\n",
              "      <td>0</td>\n",
              "      <td>0</td>\n",
              "      <td>1374631973621141504</td>\n",
              "      <td>1374631973621141504</td>\n",
              "      <td>universe9light</td>\n",
              "      <td>{'id': 1336284431607156736, 'id_str': '1336284...</td>\n",
              "      <td>None</td>\n",
              "      <td>None</td>\n",
              "      <td>None</td>\n",
              "      <td>0</td>\n",
              "      <td>False</td>\n",
              "      <td>1</td>\n",
              "      <td>0</td>\n",
              "      <td>False</td>\n",
              "      <td>False</td>\n",
              "      <td>in</td>\n",
              "      <td>NaN</td>\n",
              "      <td>NaN</td>\n",
              "      <td>0</td>\n",
              "      <td>0</td>\n",
              "      <td>0</td>\n",
              "      <td>NaN</td>\n",
              "      <td>mesti tengah tgk badminton kan haha</td>\n",
              "    </tr>\n",
              "    <tr>\n",
              "      <th>822</th>\n",
              "      <td>2021-10-15 12:34:00+00:00</td>\n",
              "      <td>1448990542725992459</td>\n",
              "      <td>1448990542725992448</td>\n",
              "      <td>@badmintontalk terima kasih admin badminton ta...</td>\n",
              "      <td>False</td>\n",
              "      <td>[0, 258]</td>\n",
              "      <td>{'hashtags': [{'text': 'ThomasCup', 'indices':...</td>\n",
              "      <td>{'iso_language_code': 'in', 'result_type': 're...</td>\n",
              "      <td>&lt;a href=\"http://twitter.com/download/android\" ...</td>\n",
              "      <td>0</td>\n",
              "      <td>0</td>\n",
              "      <td>2941773157</td>\n",
              "      <td>2941773157</td>\n",
              "      <td>BadmintonTalk</td>\n",
              "      <td>{'id': 990215803, 'id_str': '990215803', 'name...</td>\n",
              "      <td>None</td>\n",
              "      <td>None</td>\n",
              "      <td>None</td>\n",
              "      <td>0</td>\n",
              "      <td>False</td>\n",
              "      <td>0</td>\n",
              "      <td>0</td>\n",
              "      <td>False</td>\n",
              "      <td>False</td>\n",
              "      <td>in</td>\n",
              "      <td>NaN</td>\n",
              "      <td>NaN</td>\n",
              "      <td>0</td>\n",
              "      <td>0</td>\n",
              "      <td>0</td>\n",
              "      <td>NaN</td>\n",
              "      <td>terima kasih admin badminton talk yang terus m...</td>\n",
              "    </tr>\n",
              "    <tr>\n",
              "      <th>1208</th>\n",
              "      <td>2021-10-15 12:00:57+00:00</td>\n",
              "      <td>1448982223995080706</td>\n",
              "      <td>1448982223995080704</td>\n",
              "      <td>@tirasahar tira you tak tengok badminton keeeee?</td>\n",
              "      <td>False</td>\n",
              "      <td>[0, 48]</td>\n",
              "      <td>{'hashtags': [], 'symbols': [], 'user_mentions...</td>\n",
              "      <td>{'iso_language_code': 'in', 'result_type': 're...</td>\n",
              "      <td>&lt;a href=\"http://twitter.com/download/iphone\" r...</td>\n",
              "      <td>0</td>\n",
              "      <td>0</td>\n",
              "      <td>218521658</td>\n",
              "      <td>218521658</td>\n",
              "      <td>TiraSahar</td>\n",
              "      <td>{'id': 462570712, 'id_str': '462570712', 'name...</td>\n",
              "      <td>None</td>\n",
              "      <td>None</td>\n",
              "      <td>None</td>\n",
              "      <td>0</td>\n",
              "      <td>False</td>\n",
              "      <td>0</td>\n",
              "      <td>0</td>\n",
              "      <td>False</td>\n",
              "      <td>False</td>\n",
              "      <td>in</td>\n",
              "      <td>NaN</td>\n",
              "      <td>NaN</td>\n",
              "      <td>0</td>\n",
              "      <td>0</td>\n",
              "      <td>0</td>\n",
              "      <td>NaN</td>\n",
              "      <td>tira you tidak negxtengok badminton kee</td>\n",
              "    </tr>\n",
              "    <tr>\n",
              "      <th>1247</th>\n",
              "      <td>2021-10-15 11:56:59+00:00</td>\n",
              "      <td>1448981224194646020</td>\n",
              "      <td>1448981224194646016</td>\n",
              "      <td>@qifanasir sayang.  nak link tengok badminton ...</td>\n",
              "      <td>False</td>\n",
              "      <td>[0, 60]</td>\n",
              "      <td>{'hashtags': [], 'symbols': [], 'user_mentions...</td>\n",
              "      <td>{'iso_language_code': 'in', 'result_type': 're...</td>\n",
              "      <td>&lt;a href=\"http://twitter.com/download/android\" ...</td>\n",
              "      <td>0</td>\n",
              "      <td>0</td>\n",
              "      <td>239695538</td>\n",
              "      <td>239695538</td>\n",
              "      <td>qifanasir</td>\n",
              "      <td>{'id': 268390097, 'id_str': '268390097', 'name...</td>\n",
              "      <td>None</td>\n",
              "      <td>None</td>\n",
              "      <td>None</td>\n",
              "      <td>0</td>\n",
              "      <td>False</td>\n",
              "      <td>0</td>\n",
              "      <td>0</td>\n",
              "      <td>False</td>\n",
              "      <td>False</td>\n",
              "      <td>in</td>\n",
              "      <td>NaN</td>\n",
              "      <td>NaN</td>\n",
              "      <td>0</td>\n",
              "      <td>0</td>\n",
              "      <td>0</td>\n",
              "      <td>NaN</td>\n",
              "      <td>sayang anak link tengok badminton heehheehhe</td>\n",
              "    </tr>\n",
              "    <tr>\n",
              "      <th>1520</th>\n",
              "      <td>2021-10-15 11:26:42+00:00</td>\n",
              "      <td>1448973606151548937</td>\n",
              "      <td>1448973606151548928</td>\n",
              "      <td>@indihomecare halo indie home gimana ya carany...</td>\n",
              "      <td>False</td>\n",
              "      <td>[0, 123]</td>\n",
              "      <td>{'hashtags': [], 'symbols': [], 'user_mentions...</td>\n",
              "      <td>{'iso_language_code': 'in', 'result_type': 're...</td>\n",
              "      <td>&lt;a href=\"https://mobile.twitter.com\" rel=\"nofo...</td>\n",
              "      <td>0</td>\n",
              "      <td>0</td>\n",
              "      <td>765035200896118784</td>\n",
              "      <td>765035200896118784</td>\n",
              "      <td>IndiHomeCare</td>\n",
              "      <td>{'id': 1369961025663995905, 'id_str': '1369961...</td>\n",
              "      <td>None</td>\n",
              "      <td>None</td>\n",
              "      <td>None</td>\n",
              "      <td>0</td>\n",
              "      <td>False</td>\n",
              "      <td>0</td>\n",
              "      <td>0</td>\n",
              "      <td>False</td>\n",
              "      <td>False</td>\n",
              "      <td>in</td>\n",
              "      <td>NaN</td>\n",
              "      <td>NaN</td>\n",
              "      <td>0</td>\n",
              "      <td>0</td>\n",
              "      <td>0</td>\n",
              "      <td>NaN</td>\n",
              "      <td>halo indie home bagaimana ya caranya nonton ba...</td>\n",
              "    </tr>\n",
              "  </tbody>\n",
              "</table>\n",
              "</div>"
            ],
            "text/plain": [
              "                    created_at  ...                                       cleaned_text\n",
              "281  2021-10-15 13:15:26+00:00  ...                mesti tengah tgk badminton kan haha\n",
              "822  2021-10-15 12:34:00+00:00  ...  terima kasih admin badminton talk yang terus m...\n",
              "1208 2021-10-15 12:00:57+00:00  ...            tira you tidak negxtengok badminton kee\n",
              "1247 2021-10-15 11:56:59+00:00  ...       sayang anak link tengok badminton heehheehhe\n",
              "1520 2021-10-15 11:26:42+00:00  ...  halo indie home bagaimana ya caranya nonton ba...\n",
              "\n",
              "[5 rows x 32 columns]"
            ]
          },
          "metadata": {},
          "execution_count": 51
        }
      ]
    },
    {
      "cell_type": "code",
      "metadata": {
        "id": "i8lEifeElXDW"
      },
      "source": [
        "# save as new column\n",
        "dataFinal['mention_to_user_id'] = dataFinal['in_reply_to_user_id'][(dataFinal['in_reply_to_status_id'] == 0)\n",
        "                                                     & (dataFinal['in_reply_to_user_id'] != 0)]\n",
        "# fill Nan's here as well\n",
        "dataFinal['mention_to_user_id'] = dataFinal['mention_to_user_id'].fillna(0)"
      ],
      "execution_count": null,
      "outputs": []
    },
    {
      "cell_type": "code",
      "metadata": {
        "id": "p1iihch4lh2b",
        "colab": {
          "base_uri": "https://localhost:8080/",
          "height": 535
        },
        "outputId": "ff38804e-7778-4da9-d8c2-a3699129b5a4"
      },
      "source": [
        "# create dictionary with values to plot\n",
        "# the imputed zeros need to be excluded here\n",
        "data = {\n",
        "        'Tweets': (dataFinal['id'] != 0).sum(),\n",
        "        'Replies': (dataFinal['in_reply_to_status_id']!=0).sum(),\n",
        "        'Retweets': (dataFinal['retweeted_status'] != 0).sum(),\n",
        "        'Mentions':  (dataFinal['mention_to_user_id'] != 0).sum()\n",
        "        }\n",
        "\n",
        "names = list(data.keys())\n",
        "values = list(data.values())\n",
        "\n",
        "# plot the above data\n",
        "# set the figure size\n",
        "plt.figure(figsize=(12,8))\n",
        "\n",
        "# create a countplot, ordered by count\n",
        "plt.bar(names, values)\n",
        "\n",
        "# set the labels and title\n",
        "plt.xlabel('Type of Tweet')\n",
        "plt.ylabel('Total tweets sent')\n",
        "plt.title('Tweets by type')"
      ],
      "execution_count": null,
      "outputs": [
        {
          "output_type": "execute_result",
          "data": {
            "text/plain": [
              "Text(0.5, 1.0, 'Tweets by type')"
            ]
          },
          "metadata": {},
          "execution_count": 53
        },
        {
          "output_type": "display_data",
          "data": {
            "image/png": "[encoded data removed]",
            "text/plain": [
              "<Figure size 864x576 with 1 Axes>"
            ]
          },
          "metadata": {
            "needs_background": "light"
          }
        }
      ]
    },
    {
      "cell_type": "markdown",
      "metadata": {
        "id": "OApvhQdsKkki"
      },
      "source": [
        "### Twitter source by"
      ]
    },
    {
      "cell_type": "code",
      "metadata": {
        "id": "4hh7bo6-l_TE",
        "colab": {
          "base_uri": "https://localhost:8080/"
        },
        "outputId": "6a94777a-79a6-4912-d904-3060a80287a1"
      },
      "source": [
        "# cek twitter source\n",
        "dataFinal['source'].value_counts()"
      ],
      "execution_count": null,
      "outputs": [
        {
          "output_type": "execute_result",
          "data": {
            "text/plain": [
              "<a href=\"http://twitter.com/download/android\" rel=\"nofollow\">Twitter for Android</a>    29008\n",
              "<a href=\"http://twitter.com/download/iphone\" rel=\"nofollow\">Twitter for iPhone</a>       8014\n",
              "<a href=\"https://mobile.twitter.com\" rel=\"nofollow\">Twitter Web App</a>                  3676\n",
              "<a href=\"http://twitter.com/#!/download/ipad\" rel=\"nofollow\">Twitter for iPad</a>          84\n",
              "<a href=\"https://dlvrit.com/\" rel=\"nofollow\">dlvr.it</a>                                   83\n",
              "                                                                                        ...  \n",
              "<a href=\"https://smile.wiki/\" rel=\"nofollow\">SMILE WIKI</a>                                 1\n",
              "<a href=\"https://www.medcom.id\" rel=\"nofollow\">medcom_API</a>                               1\n",
              "<a href=\"http://www.bigo.tv\" rel=\"nofollow\">BIGO LIVE</a>                                   1\n",
              "<a href=\"https://twitter.com/kochengfess\" rel=\"nofollow\">KochengFess SP</a>                 1\n",
              "<a href=\"https://biol.be/\" rel=\"nofollow\">Sunda Empire</a>                                  1\n",
              "Name: source, Length: 65, dtype: int64"
            ]
          },
          "metadata": {},
          "execution_count": 54
        }
      ]
    },
    {
      "cell_type": "markdown",
      "metadata": {
        "id": "gSIP2FaeBP07"
      },
      "source": [
        "Sebagian besar user yang mentwit pada trending \"Ginting\" menggunakan Twitter for Android"
      ]
    },
    {
      "cell_type": "markdown",
      "metadata": {
        "id": "yd5iIwhxKqih"
      },
      "source": [
        "### Tweet Language"
      ]
    },
    {
      "cell_type": "code",
      "metadata": {
        "id": "1iq4hMHUmTPO",
        "colab": {
          "base_uri": "https://localhost:8080/"
        },
        "outputId": "76083ea7-4c32-4603-c925-dff8005f7b68"
      },
      "source": [
        "# Cek bahasa\n",
        "dataFinal['lang'].value_counts()"
      ],
      "execution_count": null,
      "outputs": [
        {
          "output_type": "execute_result",
          "data": {
            "text/plain": [
              "in    41296\n",
              "Name: lang, dtype: int64"
            ]
          },
          "metadata": {},
          "execution_count": 55
        }
      ]
    },
    {
      "cell_type": "code",
      "metadata": {
        "id": "yROruRDPoUyM",
        "colab": {
          "base_uri": "https://localhost:8080/",
          "height": 285
        },
        "outputId": "6d39a6b5-ee7c-4e31-9b17-c60cfecd9e47"
      },
      "source": [
        "ax = sns.countplot(y = 'lang', palette = 'muted', data=dataFinal)"
      ],
      "execution_count": null,
      "outputs": [
        {
          "output_type": "display_data",
          "data": {
            "image/png": "[encoded data removed]",
            "text/plain": [
              "<Figure size 432x288 with 1 Axes>"
            ]
          },
          "metadata": {
            "needs_background": "light"
          }
        }
      ]
    },
    {
      "cell_type": "markdown",
      "metadata": {
        "id": "a2R6WdVKBbXD"
      },
      "source": [
        "Seruluh tweet berbahasa indonesia"
      ]
    },
    {
      "cell_type": "markdown",
      "metadata": {
        "id": "SuNA-q5Sm65u"
      },
      "source": [
        "### Time Analysis"
      ]
    },
    {
      "cell_type": "code",
      "metadata": {
        "id": "A8otRWOKm3pU",
        "colab": {
          "base_uri": "https://localhost:8080/",
          "height": 544
        },
        "outputId": "0980f382-1205-4d75-e3e6-c989e56c6555"
      },
      "source": [
        "# create a copy of the dataframe\n",
        "dataFinal_time = dataFinal.copy()\n",
        "\n",
        "# set the timestamp column as the index and delete the column\n",
        "dataFinal_time.index = dataFinal_time['created_at']\n",
        "del dataFinal_time['created_at']\n",
        "\n",
        "dataFinal_time.head()"
      ],
      "execution_count": null,
      "outputs": [
        {
          "output_type": "execute_result",
          "data": {
            "text/html": [
              "<div>\n",
              "<style scoped>\n",
              "    .dataframe tbody tr th:only-of-type {\n",
              "        vertical-align: middle;\n",
              "    }\n",
              "\n",
              "    .dataframe tbody tr th {\n",
              "        vertical-align: top;\n",
              "    }\n",
              "\n",
              "    .dataframe thead th {\n",
              "        text-align: right;\n",
              "    }\n",
              "</style>\n",
              "<table border=\"1\" class=\"dataframe\">\n",
              "  <thead>\n",
              "    <tr style=\"text-align: right;\">\n",
              "      <th></th>\n",
              "      <th>id</th>\n",
              "      <th>id_str</th>\n",
              "      <th>text</th>\n",
              "      <th>truncated</th>\n",
              "      <th>display_text_range</th>\n",
              "      <th>entities</th>\n",
              "      <th>metadata</th>\n",
              "      <th>source</th>\n",
              "      <th>in_reply_to_status_id</th>\n",
              "      <th>in_reply_to_status_id_str</th>\n",
              "      <th>in_reply_to_user_id</th>\n",
              "      <th>in_reply_to_user_id_str</th>\n",
              "      <th>in_reply_to_screen_name</th>\n",
              "      <th>user</th>\n",
              "      <th>geo</th>\n",
              "      <th>coordinates</th>\n",
              "      <th>place</th>\n",
              "      <th>contributors</th>\n",
              "      <th>is_quote_status</th>\n",
              "      <th>retweet_count</th>\n",
              "      <th>favorite_count</th>\n",
              "      <th>favorited</th>\n",
              "      <th>retweeted</th>\n",
              "      <th>lang</th>\n",
              "      <th>retweeted_status</th>\n",
              "      <th>extended_entities</th>\n",
              "      <th>possibly_sensitive</th>\n",
              "      <th>quoted_status_id</th>\n",
              "      <th>quoted_status_id_str</th>\n",
              "      <th>quoted_status</th>\n",
              "      <th>cleaned_text</th>\n",
              "      <th>mention_to_user_id</th>\n",
              "    </tr>\n",
              "    <tr>\n",
              "      <th>created_at</th>\n",
              "      <th></th>\n",
              "      <th></th>\n",
              "      <th></th>\n",
              "      <th></th>\n",
              "      <th></th>\n",
              "      <th></th>\n",
              "      <th></th>\n",
              "      <th></th>\n",
              "      <th></th>\n",
              "      <th></th>\n",
              "      <th></th>\n",
              "      <th></th>\n",
              "      <th></th>\n",
              "      <th></th>\n",
              "      <th></th>\n",
              "      <th></th>\n",
              "      <th></th>\n",
              "      <th></th>\n",
              "      <th></th>\n",
              "      <th></th>\n",
              "      <th></th>\n",
              "      <th></th>\n",
              "      <th></th>\n",
              "      <th></th>\n",
              "      <th></th>\n",
              "      <th></th>\n",
              "      <th></th>\n",
              "      <th></th>\n",
              "      <th></th>\n",
              "      <th></th>\n",
              "      <th></th>\n",
              "      <th></th>\n",
              "    </tr>\n",
              "  </thead>\n",
              "  <tbody>\n",
              "    <tr>\n",
              "      <th>2021-10-15 13:34:24+00:00</th>\n",
              "      <td>1449005740664897537</td>\n",
              "      <td>1449005740664897536</td>\n",
              "      <td>penat aku tengok badminton</td>\n",
              "      <td>False</td>\n",
              "      <td>[0, 26]</td>\n",
              "      <td>{'hashtags': [], 'symbols': [], 'user_mentions...</td>\n",
              "      <td>{'iso_language_code': 'in', 'result_type': 're...</td>\n",
              "      <td>&lt;a href=\"http://twitter.com/download/iphone\" r...</td>\n",
              "      <td>0</td>\n",
              "      <td>0</td>\n",
              "      <td>0</td>\n",
              "      <td>0</td>\n",
              "      <td>None</td>\n",
              "      <td>{'id': 936196220480978945, 'id_str': '93619622...</td>\n",
              "      <td>None</td>\n",
              "      <td>None</td>\n",
              "      <td>None</td>\n",
              "      <td>0</td>\n",
              "      <td>False</td>\n",
              "      <td>0</td>\n",
              "      <td>0</td>\n",
              "      <td>False</td>\n",
              "      <td>False</td>\n",
              "      <td>in</td>\n",
              "      <td>NaN</td>\n",
              "      <td>NaN</td>\n",
              "      <td>0</td>\n",
              "      <td>0</td>\n",
              "      <td>0</td>\n",
              "      <td>NaN</td>\n",
              "      <td>penat aku tengok badminton</td>\n",
              "      <td>0.0</td>\n",
              "    </tr>\n",
              "    <tr>\n",
              "      <th>2021-10-15 13:34:22+00:00</th>\n",
              "      <td>1449005730535645185</td>\n",
              "      <td>1449005730535645184</td>\n",
              "      <td>rt @farishachaa: member sedap makan dekat food...</td>\n",
              "      <td>False</td>\n",
              "      <td>[0, 140]</td>\n",
              "      <td>{'hashtags': [], 'symbols': [], 'user_mentions...</td>\n",
              "      <td>{'iso_language_code': 'in', 'result_type': 're...</td>\n",
              "      <td>&lt;a href=\"http://twitter.com/download/android\" ...</td>\n",
              "      <td>0</td>\n",
              "      <td>0</td>\n",
              "      <td>0</td>\n",
              "      <td>0</td>\n",
              "      <td>None</td>\n",
              "      <td>{'id': 400485536, 'id_str': '400485536', 'name...</td>\n",
              "      <td>None</td>\n",
              "      <td>None</td>\n",
              "      <td>None</td>\n",
              "      <td>0</td>\n",
              "      <td>False</td>\n",
              "      <td>230</td>\n",
              "      <td>0</td>\n",
              "      <td>False</td>\n",
              "      <td>False</td>\n",
              "      <td>in</td>\n",
              "      <td>{'created_at': 'Fri Oct 15 10:59:30 +0000 2021...</td>\n",
              "      <td>NaN</td>\n",
              "      <td>0</td>\n",
              "      <td>0</td>\n",
              "      <td>0</td>\n",
              "      <td>NaN</td>\n",
              "      <td>retweet member sedap makan dekat foodcourt sam...</td>\n",
              "      <td>0.0</td>\n",
              "    </tr>\n",
              "    <tr>\n",
              "      <th>2021-10-15 13:34:21+00:00</th>\n",
              "      <td>1449005729373773826</td>\n",
              "      <td>1449005729373773824</td>\n",
              "      <td>kalau mau ot nonton badminton aja jangan ic ga...</td>\n",
              "      <td>False</td>\n",
              "      <td>[0, 80]</td>\n",
              "      <td>{'hashtags': [], 'symbols': [], 'user_mentions...</td>\n",
              "      <td>{'iso_language_code': 'in', 'result_type': 're...</td>\n",
              "      <td>&lt;a href=\"http://twitter.com/download/android\" ...</td>\n",
              "      <td>0</td>\n",
              "      <td>0</td>\n",
              "      <td>0</td>\n",
              "      <td>0</td>\n",
              "      <td>None</td>\n",
              "      <td>{'id': 1417001386865168385, 'id_str': '1417001...</td>\n",
              "      <td>None</td>\n",
              "      <td>None</td>\n",
              "      <td>None</td>\n",
              "      <td>0</td>\n",
              "      <td>False</td>\n",
              "      <td>0</td>\n",
              "      <td>0</td>\n",
              "      <td>False</td>\n",
              "      <td>False</td>\n",
              "      <td>in</td>\n",
              "      <td>NaN</td>\n",
              "      <td>NaN</td>\n",
              "      <td>0</td>\n",
              "      <td>0</td>\n",
              "      <td>0</td>\n",
              "      <td>NaN</td>\n",
              "      <td>kalau mau ot nonton badminton saja jangan negx...</td>\n",
              "      <td>0.0</td>\n",
              "    </tr>\n",
              "    <tr>\n",
              "      <th>2021-10-15 13:34:13+00:00</th>\n",
              "      <td>1449005695383203840</td>\n",
              "      <td>1449005695383203840</td>\n",
              "      <td>gak nonton badminton penasaran, pas giliran bi...</td>\n",
              "      <td>False</td>\n",
              "      <td>[0, 86]</td>\n",
              "      <td>{'hashtags': [{'text': 'ThomasCup', 'indices':...</td>\n",
              "      <td>{'iso_language_code': 'in', 'result_type': 're...</td>\n",
              "      <td>&lt;a href=\"http://twitter.com/download/android\" ...</td>\n",
              "      <td>0</td>\n",
              "      <td>0</td>\n",
              "      <td>0</td>\n",
              "      <td>0</td>\n",
              "      <td>None</td>\n",
              "      <td>{'id': 1036309419129073664, 'id_str': '1036309...</td>\n",
              "      <td>None</td>\n",
              "      <td>None</td>\n",
              "      <td>None</td>\n",
              "      <td>0</td>\n",
              "      <td>False</td>\n",
              "      <td>0</td>\n",
              "      <td>0</td>\n",
              "      <td>False</td>\n",
              "      <td>False</td>\n",
              "      <td>in</td>\n",
              "      <td>NaN</td>\n",
              "      <td>NaN</td>\n",
              "      <td>0</td>\n",
              "      <td>0</td>\n",
              "      <td>0</td>\n",
              "      <td>NaN</td>\n",
              "      <td>tidak negxnonton badminton penasaran pas gilir...</td>\n",
              "      <td>0.0</td>\n",
              "    </tr>\n",
              "    <tr>\n",
              "      <th>2021-10-15 13:34:13+00:00</th>\n",
              "      <td>1449005693717995524</td>\n",
              "      <td>1449005693717995520</td>\n",
              "      <td>weh bedebo siot tgk badminton ni</td>\n",
              "      <td>False</td>\n",
              "      <td>[0, 32]</td>\n",
              "      <td>{'hashtags': [], 'symbols': [], 'user_mentions...</td>\n",
              "      <td>{'iso_language_code': 'in', 'result_type': 're...</td>\n",
              "      <td>&lt;a href=\"http://twitter.com/download/android\" ...</td>\n",
              "      <td>0</td>\n",
              "      <td>0</td>\n",
              "      <td>0</td>\n",
              "      <td>0</td>\n",
              "      <td>None</td>\n",
              "      <td>{'id': 1288570706, 'id_str': '1288570706', 'na...</td>\n",
              "      <td>None</td>\n",
              "      <td>None</td>\n",
              "      <td>None</td>\n",
              "      <td>0</td>\n",
              "      <td>False</td>\n",
              "      <td>0</td>\n",
              "      <td>0</td>\n",
              "      <td>False</td>\n",
              "      <td>False</td>\n",
              "      <td>in</td>\n",
              "      <td>NaN</td>\n",
              "      <td>NaN</td>\n",
              "      <td>0</td>\n",
              "      <td>0</td>\n",
              "      <td>0</td>\n",
              "      <td>NaN</td>\n",
              "      <td>weh bedebo siot tgk badminton ini</td>\n",
              "      <td>0.0</td>\n",
              "    </tr>\n",
              "  </tbody>\n",
              "</table>\n",
              "</div>"
            ],
            "text/plain": [
              "                                            id  ...  mention_to_user_id\n",
              "created_at                                      ...                    \n",
              "2021-10-15 13:34:24+00:00  1449005740664897537  ...                 0.0\n",
              "2021-10-15 13:34:22+00:00  1449005730535645185  ...                 0.0\n",
              "2021-10-15 13:34:21+00:00  1449005729373773826  ...                 0.0\n",
              "2021-10-15 13:34:13+00:00  1449005695383203840  ...                 0.0\n",
              "2021-10-15 13:34:13+00:00  1449005693717995524  ...                 0.0\n",
              "\n",
              "[5 rows x 32 columns]"
            ]
          },
          "metadata": {},
          "execution_count": 58
        }
      ]
    },
    {
      "cell_type": "code",
      "metadata": {
        "id": "IskkZmwAnR27"
      },
      "source": [
        "dataFinal['weekdaynum'] = dataFinal['created_at'].dt.dayofweek\n",
        "dataFinal['monthdaynum'] = dataFinal['created_at'].dt.day\n",
        "dataFinal['hourofday'] = dataFinal['created_at'].dt.hour"
      ],
      "execution_count": null,
      "outputs": []
    },
    {
      "cell_type": "code",
      "metadata": {
        "id": "3I4EgIotni5N",
        "colab": {
          "base_uri": "https://localhost:8080/",
          "height": 522
        },
        "outputId": "d168ed93-124f-4986-b4ee-ff72ec5d599a"
      },
      "source": [
        "# create a bar plot with month days\n",
        "dataFinal.pivot_table(index='monthdaynum',values='id',aggfunc='count').plot(kind='bar',figsize=(12,8),color='skyblue')\n",
        "\n",
        "# set the labels and title\n",
        "plt.ylabel('Total tweets sent')\n",
        "plt.xlabel('Month day')\n",
        "plt.title('Tweets sent by month day');"
      ],
      "execution_count": null,
      "outputs": [
        {
          "output_type": "display_data",
          "data": {
            "image/png": "[encoded data removed]",
            "text/plain": [
              "<Figure size 864x576 with 1 Axes>"
            ]
          },
          "metadata": {
            "needs_background": "light"
          }
        }
      ]
    },
    {
      "cell_type": "code",
      "metadata": {
        "id": "Mx-xtujonqJ9",
        "colab": {
          "base_uri": "https://localhost:8080/",
          "height": 522
        },
        "outputId": "9f081b8c-ff76-4fa9-e720-5cc9703573e9"
      },
      "source": [
        "# create a bar plot with hours of day\n",
        "dataFinal.pivot_table(index='hourofday',values='id',aggfunc='count').plot(kind='bar',figsize=(12,8),color='skyblue')\n",
        "\n",
        "# set the labels and title\n",
        "plt.ylabel('Total tweets sent')\n",
        "plt.xlabel('Hours of the day (in UTC)')\n",
        "plt.title('Tweets sent by hour of the day (in UTC)');"
      ],
      "execution_count": null,
      "outputs": [
        {
          "output_type": "display_data",
          "data": {
            "image/png": "[encoded data removed]",
            "text/plain": [
              "<Figure size 864x576 with 1 Axes>"
            ]
          },
          "metadata": {
            "needs_background": "light"
          }
        }
      ]
    },
    {
      "cell_type": "markdown",
      "metadata": {
        "id": "YgH8KMdLucwj"
      },
      "source": [
        "Dari hasil EDA yang kami peroleh tren Twitter dengan \"Ginting\" dan \"Thomas Cup\" mendapatkan:\n",
        "1. Like terbanyak datang dari Tweet \"ORANG GILA LEADING 11-7 KESALIP JADI 14-11 TERUS KETINGGALAN 20-16 DAN NYUSUL 22-20 SIAPA YANG GILA YA BETUL NAMANYA ANTHONY SINISUKA GINTING\" dengan jumlah 6.5 ribu like.\n",
        "\n",
        "2. Bahwa Retweet terbanyak didapat dari screen_name: ArdiPegasis dengan me retweet\n",
        "\"@BadmintonTalk: #Badminton Women's Doubles #GOLD Medalist Greysia Polii/Apriyani Rahayu #INA #Tokyo2020 #BadmintalkTokyo2020\".\n",
        "\n",
        "3. Sorotan harian pada hari ke-15 dengan jumlah tweet lebih dari 25 ribu tweet. Dan tren 'Ginting' muncul pada hari ke 11 dengan jumlah tweet kurang dari 5 ribu tweet.\n",
        "\n",
        "4. Untuk sorotan waktu terbanyak mendapatkan jumlah tweet lebih dari 20 ribu pada jam 12 UTC atau jam 7 PM WIB. Untuk sorotan waktu jumlah tweet paling rendah pada jam 21 UTC atau jam 4 AM WIB esok harinya."
      ]
    },
    {
      "cell_type": "markdown",
      "metadata": {
        "id": "IzQEWdB-78Ao"
      },
      "source": [
        "### Voyant Tools\n",
        "Dari hasil text processing, dengan menggunakan voyant tool diperoleh :"
      ]
    },
    {
      "cell_type": "code",
      "metadata": {
        "id": "TttWyy-xZG1d",
        "colab": {
          "base_uri": "https://localhost:8080/",
          "height": 346
        },
        "outputId": "e5458b49-927d-4280-f43e-b4d7f419d98f"
      },
      "source": [
        "wordcloud = Image.open('/content/Twitter-data-processing/image/wordcloud.png')\n",
        "wordcloud"
      ],
      "execution_count": null,
      "outputs": [
        {
          "output_type": "execute_result",
          "data": {
            "image/png": "[encoded data removed]",
            "text/plain": [
              "<PIL.PngImagePlugin.PngImageFile image mode=RGBA size=624x329 at 0x7F121C231BD0>"
            ]
          },
          "metadata": {},
          "execution_count": 62
        }
      ]
    },
    {
      "cell_type": "code",
      "metadata": {
        "id": "qH2icrnDT8a4",
        "colab": {
          "base_uri": "https://localhost:8080/",
          "height": 334
        },
        "outputId": "3c735124-c8b5-4977-f1e6-7115b9fe5988"
      },
      "source": [
        "link = Image.open('/content/Twitter-data-processing/image/link.png')\n",
        "link"
      ],
      "execution_count": null,
      "outputs": [
        {
          "output_type": "execute_result",
          "data": {
            "image/png": "[encoded data removed]",
            "text/plain": [
              "<PIL.PngImagePlugin.PngImageFile image mode=RGBA size=384x317 at 0x7F121C5A2D50>"
            ]
          },
          "metadata": {},
          "execution_count": 63
        }
      ]
    },
    {
      "cell_type": "code",
      "metadata": {
        "id": "T8CF-6KHFkTJ",
        "colab": {
          "base_uri": "https://localhost:8080/",
          "height": 266
        },
        "outputId": "c2408695-8fff-4dbc-a907-58aab3d53541"
      },
      "source": [
        "trend = Image.open('/content/Twitter-data-processing/image/trends.jpeg')\n",
        "trend"
      ],
      "execution_count": null,
      "outputs": [
        {
          "output_type": "execute_result",
          "data": {
            "image/png": "[encoded data removed]",
            "text/plain": [
              "<PIL.JpegImagePlugin.JpegImageFile image mode=RGB size=428x249 at 0x7F121C61B810>"
            ]
          },
          "metadata": {},
          "execution_count": 64
        }
      ]
    },
    {
      "cell_type": "markdown",
      "metadata": {
        "id": "zy01gs6BZWD2"
      },
      "source": [
        "Pada word cloud ini terlihat bahwa kata yang paling sering muncul pada trending \"Ginting\" dan \"Thomas Cup\" pada hari Jumat, 15 Oktober 2021:\n",
        "1. \"Ginting\" dengan jumlah 26.7 ribu\n",
        "2. \"retweet\" dengan jumlah 21.6 ribu\n",
        "\n",
        "Dan untuk kata lainnya yang sering muncul dalam tren:\n",
        "1. anthony dengan jumlah 12.6 ribu\n",
        "2. thomascup dengan jumlah 11.7 ribu\n",
        "3. badminton dengan jumlah 11.3 ribu"
      ]
    },
    {
      "cell_type": "markdown",
      "metadata": {
        "id": "b7kHF5ae-rCO"
      },
      "source": [
        "# Geocode"
      ]
    },
    {
      "cell_type": "code",
      "metadata": {
        "id": "kBK7ja9O_aLV",
        "colab": {
          "base_uri": "https://localhost:8080/"
        },
        "outputId": "bda57017-ff58-4a2b-d3db-5aeb8730d2ed"
      },
      "source": [
        "!pip install unidecode twython tweepy beautifulsoup4 tika"
      ],
      "execution_count": null,
      "outputs": [
        {
          "output_type": "stream",
          "name": "stdout",
          "text": [
            "Requirement already satisfied: unidecode in /usr/local/lib/python3.7/dist-packages (1.3.2)\n",
            "Collecting twython\n",
            "  Downloading twython-3.9.1-py3-none-any.whl (33 kB)\n",
            "Requirement already satisfied: tweepy in /usr/local/lib/python3.7/dist-packages (3.10.0)\n",
            "Requirement already satisfied: beautifulsoup4 in /usr/local/lib/python3.7/dist-packages (4.6.3)\n",
            "Collecting tika\n",
            "  Downloading tika-1.24.tar.gz (28 kB)\n",
            "Requirement already satisfied: requests-oauthlib>=0.4.0 in /usr/local/lib/python3.7/dist-packages (from twython) (1.3.0)\n",
            "Requirement already satisfied: requests>=2.1.0 in /usr/local/lib/python3.7/dist-packages (from twython) (2.23.0)\n",
            "Requirement already satisfied: chardet<4,>=3.0.2 in /usr/local/lib/python3.7/dist-packages (from requests>=2.1.0->twython) (3.0.4)\n",
            "Requirement already satisfied: idna<3,>=2.5 in /usr/local/lib/python3.7/dist-packages (from requests>=2.1.0->twython) (2.10)\n",
            "Requirement already satisfied: certifi>=2017.4.17 in /usr/local/lib/python3.7/dist-packages (from requests>=2.1.0->twython) (2021.5.30)\n",
            "Requirement already satisfied: urllib3!=1.25.0,!=1.25.1,<1.26,>=1.21.1 in /usr/local/lib/python3.7/dist-packages (from requests>=2.1.0->twython) (1.24.3)\n",
            "Requirement already satisfied: oauthlib>=3.0.0 in /usr/local/lib/python3.7/dist-packages (from requests-oauthlib>=0.4.0->twython) (3.1.1)\n",
            "Requirement already satisfied: six>=1.10.0 in /usr/local/lib/python3.7/dist-packages (from tweepy) (1.15.0)\n",
            "Requirement already satisfied: PySocks!=1.5.7,>=1.5.6 in /usr/local/lib/python3.7/dist-packages (from requests>=2.1.0->twython) (1.7.1)\n",
            "Requirement already satisfied: setuptools in /usr/local/lib/python3.7/dist-packages (from tika) (57.4.0)\n",
            "Building wheels for collected packages: tika\n",
            "  Building wheel for tika (setup.py) ... \u001b[?25l\u001b[?25hdone\n",
            "  Created wheel for tika: filename=tika-1.24-py3-none-any.whl size=32891 sha256=0c6d3bc82a37069a7ac928a77f52662521c660f6688a0a54f0dfa6758ec95776\n",
            "  Stored in directory: /root/.cache/pip/wheels/ec/2b/38/58ff05467a742e32f67f5d0de048fa046e764e2fbb25ac93f3\n",
            "Successfully built tika\n",
            "Installing collected packages: twython, tika\n",
            "Successfully installed tika-1.24 twython-3.9.1\n"
          ]
        }
      ]
    },
    {
      "cell_type": "code",
      "metadata": {
        "id": "yLS9ATZL_dxg"
      },
      "source": [
        "import warnings; warnings.simplefilter('ignore')\n",
        "import tweepy, json, nltk, urllib.request, requests\n",
        "from urllib.request import Request, urlopen\n",
        "from twython import TwythonStreamer\n",
        "from bs4 import BeautifulSoup as bs"
      ],
      "execution_count": null,
      "outputs": []
    },
    {
      "cell_type": "code",
      "metadata": {
        "id": "_Q_mbAqL_Cp3",
        "colab": {
          "base_uri": "https://localhost:8080/",
          "height": 35
        },
        "outputId": "ac69d2c2-4c33-4def-efa0-4f7196ec3fc0"
      },
      "source": [
        "Ck = 'TzNLDZWobWBvrIj9Iv6a9DOum' # consumer_key\n",
        "Cs = 'dsM8YfWnYWXN3SIbjXeqc6bFA3o7leuIeD93J7bMLzPnsguNfA' # consumer_secret\n",
        "At = '1331229969419124739-BDzaf41o3xKp5PstMXOhvQhsEmWxf7' # access_token\n",
        "As = '4tJukJjqF03XrfTAytVUwqqWpRBMOFOc4XtUazBj7rJNA' # access_secret\n",
        "'Done'"
      ],
      "execution_count": null,
      "outputs": [
        {
          "output_type": "execute_result",
          "data": {
            "application/vnd.google.colaboratory.intrinsic+json": {
              "type": "string"
            },
            "text/plain": [
              "'Done'"
            ]
          },
          "metadata": {},
          "execution_count": 67
        }
      ]
    },
    {
      "cell_type": "code",
      "metadata": {
        "id": "XUXX0ZOY_FHd",
        "colab": {
          "base_uri": "https://localhost:8080/"
        },
        "outputId": "e0ca6604-11da-4cbc-f96f-e22c742b0846"
      },
      "source": [
        "def twitter_connect(Ck, Cs, At, As, verbose = 0):\n",
        "    try:\n",
        "        auth = tweepy.OAuthHandler(Ck, Cs)\n",
        "        auth.set_access_token(At, As)\n",
        "        twitter = tweepy.API(auth, timeout=120)\n",
        "        if verbose != 0:\n",
        "            user = twitter.verify_credentials()\n",
        "            print('Welcome \"%s\" you are now connected to twitter server' %user.name)\n",
        "        return twitter\n",
        "    except:\n",
        "        print(\"Connection failed, please check your API keys or connection\")\n",
        "        return None\n",
        "\n",
        "# Koneksi ke twitter\n",
        "twitter = twitter_connect(Ck, Cs, At, As, verbose = 1)"
      ],
      "execution_count": null,
      "outputs": [
        {
          "output_type": "stream",
          "name": "stdout",
          "text": [
            "Welcome \"ryanti\" you are now connected to twitter server\n"
          ]
        }
      ]
    },
    {
      "cell_type": "code",
      "metadata": {
        "id": "IUfG7tn1-tAH",
        "colab": {
          "base_uri": "https://localhost:8080/"
        },
        "outputId": "7bbb38f5-bd6d-40c2-9f9e-8bf87f508a78"
      },
      "source": [
        "# search tweet tentang \"Thomas cup\" di daerah sekitar UIN Jakarta\n",
        "auth = tweepy.auth.OAuthHandler(Ck, Cs)\n",
        "auth.set_access_token(At, As)\n",
        "api = tweepy.API(auth)\n",
        "\n",
        "Geo, N = \"-6.3064075924070035,106.75452888323025,30km\", 5  #berikut adalah titik koordinat daerah sekitar UIN Jakarta\n",
        "qry = 'Thomas cup'\n",
        "for tweet in tweepy.Cursor(api.search, q=qry, count=100, geocode=Geo).items(N):\n",
        "    print([tweet.created_at, tweet.text.encode('utf-8'), tweet.user.id, tweet.geo])"
      ],
      "execution_count": null,
      "outputs": [
        {
          "output_type": "stream",
          "name": "stdout",
          "text": [
            "[datetime.datetime(2021, 11, 1, 5, 44, 36), b'Kenapa gak ikut aja sih esp adin fei mereka baru nyampe pas thomas cup jir', 877905934000939009, None]\n",
            "[datetime.datetime(2021, 11, 1, 2, 42, 45), b'~Stlh 19thn baru dpt Thomas Cup. Artinya dZaman SBY kita gk prnh dpt Thomas Cup\\n\\n~Prtama kali Indonesia jd Presiden\\xe2\\x80\\xa6 https://t.co/6b0fHcjeZE', 1257347831683149824, None]\n",
            "[datetime.datetime(2021, 10, 31, 19, 22, 53), b'Kecewa pasti ada. Geregetan ya masih ada juga. Pengen liat mereka menang, sudah pasti.\\n\\nCuma apa ya, kok gw merasa\\xe2\\x80\\xa6 https://t.co/njfybiwPba', 40626765, None]\n",
            "[datetime.datetime(2021, 10, 31, 18, 37, 27), b'@jojosuherman Oh gini ya becandaan Jojo yg menang di Thomas cup kemaren...', 137613575, None]\n",
            "[datetime.datetime(2021, 10, 31, 16, 33, 18), b'@venom1828 @ainurohman Ya mrk juga siaap mantan juara dunia..mantan rangking satu dunia.masih seger baru datang gak\\xe2\\x80\\xa6 https://t.co/VWWgafskdJ', 196410839, None]\n"
          ]
        }
      ]
    },
    {
      "cell_type": "markdown",
      "metadata": {
        "id": "vf4Pae4gI3dq"
      },
      "source": [
        "# Kesimpulan"
      ]
    },
    {
      "cell_type": "markdown",
      "metadata": {
        "id": "ikixb_zt6kp6"
      },
      "source": [
        "Dari hasil pengolahan data tidak terstruktur seperti data dari Twitter kami dapatkan bahwa saat tren \"Ginting\" dan \"Thomas cup\" naik menjadi Trending di Indonesia pada Tanggal 15 Oktober 2021 dengan sorotan waktu terbanyak pada jam 7 PM WIB bisa dikatakan pengguna twitter di Indonesia aktif pada saat waktu tersebut. Dan pula mulai menurun sorotan pada waktu 4 AM esok harinya dikarenakan tren tersebut muncul dengan adanya even yang terjadi dan warga pengguna aktif Twitter memberikan dukungan melalu media sosial."
      ]
    }
  ]
}